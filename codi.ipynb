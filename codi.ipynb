{
 "cells": [
  {
   "cell_type": "markdown",
   "source": [
    "# Practica APA - predicció superfície cremada d'un incendi\n",
    "Sergi Curto Panisello,\n",
    "Joan Melchor Lladó\n",
    "\n",
    "## Imports"
   ],
   "metadata": {
    "collapsed": false
   }
  },
  {
   "cell_type": "code",
   "execution_count": 1,
   "metadata": {},
   "outputs": [],
   "source": [
    "import pandas as pd\n",
    "import numpy as np\n",
    "import tabulate\n",
    "from geopy.geocoders import Nominatim"
   ]
  },
  {
   "cell_type": "markdown",
   "source": [
    "## Obtenim les dades\n",
    "Procedim a agafar les dades en format csv descarregades de https://datos.civio.es/dataset/todos-los-incendios-forestales/"
   ],
   "metadata": {
    "collapsed": false,
    "pycharm": {
     "name": "#%% md\n"
    }
   }
  },
  {
   "cell_type": "code",
   "execution_count": 5,
   "outputs": [
    {
     "name": "stdout",
     "output_type": "stream",
     "text": [
      "         superficie           lat           lng  latlng_explicit  \\\n",
      "count  82640.000000  82616.000000  82616.000000     82640.000000   \n",
      "mean      19.888085     41.763721     -5.664360         0.741626   \n",
      "std      223.787536      2.019672      4.394031         0.437743   \n",
      "min        1.000000      0.490720  -1000.000000         0.000000   \n",
      "25%        1.500000     40.876544     -7.257298         0.000000   \n",
      "50%        3.000000     42.371123     -6.019478         1.000000   \n",
      "75%        7.150000     43.143145     -4.303078         1.000000   \n",
      "max    28879.100000     87.824157    242.755603         1.000000   \n",
      "\n",
      "        idcomunidad   idprovincia   idmunicipio         causa  causa_supuesta  \\\n",
      "count  82640.000000  82640.000000  82640.000000  82640.000000         46465.0   \n",
      "mean       7.850278     28.411375     77.795946      3.695051             1.0   \n",
      "std        5.419922     11.727155     98.867769      1.032923             0.0   \n",
      "min        1.000000      1.000000      1.000000      1.000000             1.0   \n",
      "25%        3.000000     21.000000     27.000000      4.000000             1.0   \n",
      "50%        5.000000     32.000000     52.000000      4.000000             1.0   \n",
      "75%       14.000000     36.000000     92.000000      4.000000             1.0   \n",
      "max       18.000000     51.000000    999.000000      6.000000             1.0   \n",
      "\n",
      "         causa_desc      muertos      heridos      time_ctrl       time_ext  \\\n",
      "count  82640.000000  2724.000000  3071.000000   82640.000000   82640.000000   \n",
      "mean      12.216917     0.021292     0.197981     236.247302     523.010733   \n",
      "std       24.631048     0.298586     0.716858     901.186810    2560.985781   \n",
      "min        0.000000     0.000000     0.000000       0.000000       0.000000   \n",
      "25%        0.000000     0.000000     0.000000      64.000000     134.000000   \n",
      "50%        2.000000     0.000000     0.000000     118.000000     221.000000   \n",
      "75%       10.000000     0.000000     0.000000     210.000000     415.000000   \n",
      "max       99.000000    11.000000    12.000000  132555.000000  529682.000000   \n",
      "\n",
      "           personal        medios        gastos      perdidas  \n",
      "count  82640.000000  82640.000000  1.162400e+04  3.434900e+04  \n",
      "mean      21.188093      3.143224  7.500955e+03  3.230666e+04  \n",
      "std       48.210975      6.180303  3.939254e+04  4.315912e+05  \n",
      "min        0.000000      0.000000  0.000000e+00 -2.896100e+04  \n",
      "25%        5.000000      1.000000  3.560000e+02  1.020000e+02  \n",
      "50%       11.000000      2.000000  1.107000e+03  1.323000e+03  \n",
      "75%       23.000000      3.000000  3.682750e+03  5.738000e+03  \n",
      "max     3979.000000    310.000000  1.426641e+06  3.064011e+07  \n"
     ]
    }
   ],
   "source": [
    "df = pd.read_csv('fires-all.csv').set_index('id')\n",
    "print(df.describe())"
   ],
   "metadata": {
    "collapsed": false,
    "pycharm": {
     "name": "#%%\n"
    }
   }
  },
  {
   "cell_type": "code",
   "execution_count": 6,
   "outputs": [
    {
     "name": "stdout",
     "output_type": "stream",
     "text": [
      "                 id    superficie           lat           lng  \\\n",
      "count  8.264000e+04  82640.000000  82546.000000  82546.000000   \n",
      "mean   2.007259e+09     19.888085     41.719155     -5.558112   \n",
      "std    4.247106e+06    223.787536      1.926568      2.443179   \n",
      "min    2.001010e+09      1.000000     27.707180    -17.980518   \n",
      "25%    2.003390e+09      1.500000     40.776836     -7.250142   \n",
      "50%    2.006330e+09      3.000000     42.341650     -5.959559   \n",
      "75%    2.011150e+09      7.150000     43.127503     -4.217251   \n",
      "max    2.015510e+09  28879.100000     43.761264      4.158954   \n",
      "\n",
      "       latlng_explicit   idcomunidad   idprovincia   idmunicipio  \\\n",
      "count     82640.000000  82640.000000  82640.000000  82640.000000   \n",
      "mean          0.639920      7.850278     28.411375     77.795946   \n",
      "std           0.480026      5.419922     11.727155     98.867769   \n",
      "min           0.000000      1.000000      1.000000      1.000000   \n",
      "25%           0.000000      3.000000     21.000000     27.000000   \n",
      "50%           1.000000      5.000000     32.000000     52.000000   \n",
      "75%           1.000000     14.000000     36.000000     92.000000   \n",
      "max           1.000000     18.000000     51.000000    999.000000   \n",
      "\n",
      "              causa  causa_supuesta    causa_desc      muertos      heridos  \\\n",
      "count  82640.000000         46465.0  82640.000000  2724.000000  3071.000000   \n",
      "mean       3.695051             1.0     12.216917     0.021292     0.197981   \n",
      "std        1.032923             0.0     24.631048     0.298586     0.716858   \n",
      "min        1.000000             1.0      0.000000     0.000000     0.000000   \n",
      "25%        4.000000             1.0      0.000000     0.000000     0.000000   \n",
      "50%        4.000000             1.0      2.000000     0.000000     0.000000   \n",
      "75%        4.000000             1.0     10.000000     0.000000     0.000000   \n",
      "max        6.000000             1.0     99.000000    11.000000    12.000000   \n",
      "\n",
      "           time_ctrl       time_ext      personal        medios        gastos  \\\n",
      "count   82640.000000   82640.000000  82640.000000  82640.000000  1.162400e+04   \n",
      "mean      236.247302     523.010733     21.188093      3.143224  7.500955e+03   \n",
      "std       901.186810    2560.985781     48.210975      6.180303  3.939254e+04   \n",
      "min         0.000000       0.000000      0.000000      0.000000  0.000000e+00   \n",
      "25%        64.000000     134.000000      5.000000      1.000000  3.560000e+02   \n",
      "50%       118.000000     221.000000     11.000000      2.000000  1.107000e+03   \n",
      "75%       210.000000     415.000000     23.000000      3.000000  3.682750e+03   \n",
      "max    132555.000000  529682.000000   3979.000000    310.000000  1.426641e+06   \n",
      "\n",
      "           perdidas  \n",
      "count  3.434900e+04  \n",
      "mean   3.230666e+04  \n",
      "std    4.315912e+05  \n",
      "min   -2.896100e+04  \n",
      "25%    1.020000e+02  \n",
      "50%    1.323000e+03  \n",
      "75%    5.738000e+03  \n",
      "max    3.064011e+07  \n"
     ]
    }
   ],
   "source": [
    "dfCorregit = pd.read_csv(\"coordsCorregides.csv\")\n",
    "print(dfCorregit.describe())"
   ],
   "metadata": {
    "collapsed": false,
    "pycharm": {
     "name": "#%%\n"
    }
   }
  },
  {
   "cell_type": "code",
   "execution_count": 3,
   "outputs": [
    {
     "name": "stdout",
     "output_type": "stream",
     "text": [
      "Mont-ras, Baix Empordà, Girona, Catalunya, España\n",
      "(41.9080196, 3.144796)\n"
     ]
    }
   ],
   "source": [
    "geolocator = Nominatim(user_agent=\"apaProject\")\n",
    "location = geolocator.geocode('mont-ras')\n",
    "print(location.address)\n",
    "print((location.latitude, location.longitude))"
   ],
   "metadata": {
    "collapsed": false,
    "pycharm": {
     "name": "#%%\n"
    }
   }
  },
  {
   "cell_type": "code",
   "execution_count": 4,
   "outputs": [
    {
     "name": "stdout",
     "output_type": "stream",
     "text": [
      "<bound method NDFrame.head of             superficie       fecha        lat       lng  latlng_explicit  \\\n",
      "id                                                                         \n",
      "2001080017        1.00  2001-02-22  41.667672  2.066639                1   \n",
      "2001080032        6.00  2001-03-29  41.300741  1.666971                1   \n",
      "2001080039        1.00  2001-04-07  41.474125  1.973610                1   \n",
      "2001080041        1.33  2001-04-08  41.483501  1.584177                1   \n",
      "2001080043        2.00  2001-04-08  41.511833  2.321732                1   \n",
      "...                ...         ...        ...       ...              ...   \n",
      "2015430102        1.63  2015-11-25  41.266186  1.154032                1   \n",
      "2015430116       23.23  2015-06-09  41.175501  0.813588                1   \n",
      "2015430117       45.03  2015-08-24  40.940658  0.826569                1   \n",
      "2015430118       29.00  2015-08-29  41.268525  0.883916                1   \n",
      "2015430119        6.76  2015-10-22  41.004475  0.491856                1   \n",
      "\n",
      "            idcomunidad  idprovincia  idmunicipio  \\\n",
      "id                                                  \n",
      "2001080017            2            8          223   \n",
      "2001080032            2            8          251   \n",
      "2001080039            2            8           54   \n",
      "2001080041            2            8          122   \n",
      "2001080043            2            8          281   \n",
      "...                 ...          ...          ...   \n",
      "2015430102            2           43            5   \n",
      "2015430116            2           43           55   \n",
      "2015430117            2           43           13   \n",
      "2015430118            2           43           49   \n",
      "2015430119            2           43          106   \n",
      "\n",
      "                               municipio  causa  causa_supuesta  causa_desc  \\\n",
      "id                                                                            \n",
      "2001080017           SANT LLORENÇ SAVALL      2             NaN          30   \n",
      "2001080032  SANTA MARGARIDA I ELS MONJOS      4             1.0          19   \n",
      "2001080039                 CASTELLBISBAL      4             1.0          19   \n",
      "2001080041                       MEDIONA      3             NaN          20   \n",
      "2001080043                          TEIÀ      4             1.0          19   \n",
      "...                                  ...    ...             ...         ...   \n",
      "2015430102                       ALCOVER      3             NaN          20   \n",
      "2015430116                        FALSET      1             NaN           0   \n",
      "2015430117            AMETLLA DE MAR, L'      5             NaN           0   \n",
      "2015430118        CORNUDELLA DE MONTSANT      4             1.0           0   \n",
      "2015430119               PINELL BRAI, EL      2             NaN          12   \n",
      "\n",
      "            muertos  heridos  time_ctrl  time_ext  personal  medios  gastos  \\\n",
      "id                                                                            \n",
      "2001080017      NaN      NaN        130       160        27       4     NaN   \n",
      "2001080032      NaN      NaN        171      1221        58      16     NaN   \n",
      "2001080039      NaN      NaN         87       147        60      10     NaN   \n",
      "2001080041      1.0      NaN        245       410        30      10     NaN   \n",
      "2001080043      NaN      NaN        110       180        30       9     NaN   \n",
      "...             ...      ...        ...       ...       ...     ...     ...   \n",
      "2015430102      NaN      NaN        165       300        50      11     NaN   \n",
      "2015430116      NaN      NaN        390      1518       196      75     NaN   \n",
      "2015430117      NaN      NaN        618      2278       233      64     NaN   \n",
      "2015430118      NaN      NaN       1615      3013       210      53     NaN   \n",
      "2015430119      NaN      NaN        115       130        81      17     NaN   \n",
      "\n",
      "            perdidas  \n",
      "id                    \n",
      "2001080017       NaN  \n",
      "2001080032       NaN  \n",
      "2001080039       NaN  \n",
      "2001080041       NaN  \n",
      "2001080043       NaN  \n",
      "...              ...  \n",
      "2015430102       NaN  \n",
      "2015430116       NaN  \n",
      "2015430117       NaN  \n",
      "2015430118       NaN  \n",
      "2015430119       NaN  \n",
      "\n",
      "[1325 rows x 20 columns]>\n",
      "Shape\n",
      "(1325, 20)\n",
      "ID especial\n"
     ]
    },
    {
     "ename": "KeyError",
     "evalue": "'id'",
     "output_type": "error",
     "traceback": [
      "\u001B[0;31m---------------------------------------------------------------------------\u001B[0m",
      "\u001B[0;31mKeyError\u001B[0m                                  Traceback (most recent call last)",
      "\u001B[0;32m~/.local/lib/python3.8/site-packages/pandas/core/indexes/base.py\u001B[0m in \u001B[0;36mget_loc\u001B[0;34m(self, key, method, tolerance)\u001B[0m\n\u001B[1;32m   2894\u001B[0m             \u001B[0;32mtry\u001B[0m\u001B[0;34m:\u001B[0m\u001B[0;34m\u001B[0m\u001B[0;34m\u001B[0m\u001B[0m\n\u001B[0;32m-> 2895\u001B[0;31m                 \u001B[0;32mreturn\u001B[0m \u001B[0mself\u001B[0m\u001B[0;34m.\u001B[0m\u001B[0m_engine\u001B[0m\u001B[0;34m.\u001B[0m\u001B[0mget_loc\u001B[0m\u001B[0;34m(\u001B[0m\u001B[0mcasted_key\u001B[0m\u001B[0;34m)\u001B[0m\u001B[0;34m\u001B[0m\u001B[0;34m\u001B[0m\u001B[0m\n\u001B[0m\u001B[1;32m   2896\u001B[0m             \u001B[0;32mexcept\u001B[0m \u001B[0mKeyError\u001B[0m \u001B[0;32mas\u001B[0m \u001B[0merr\u001B[0m\u001B[0;34m:\u001B[0m\u001B[0;34m\u001B[0m\u001B[0;34m\u001B[0m\u001B[0m\n",
      "\u001B[0;32mpandas/_libs/index.pyx\u001B[0m in \u001B[0;36mpandas._libs.index.IndexEngine.get_loc\u001B[0;34m()\u001B[0m\n",
      "\u001B[0;32mpandas/_libs/index.pyx\u001B[0m in \u001B[0;36mpandas._libs.index.IndexEngine.get_loc\u001B[0;34m()\u001B[0m\n",
      "\u001B[0;32mpandas/_libs/hashtable_class_helper.pxi\u001B[0m in \u001B[0;36mpandas._libs.hashtable.PyObjectHashTable.get_item\u001B[0;34m()\u001B[0m\n",
      "\u001B[0;32mpandas/_libs/hashtable_class_helper.pxi\u001B[0m in \u001B[0;36mpandas._libs.hashtable.PyObjectHashTable.get_item\u001B[0;34m()\u001B[0m\n",
      "\u001B[0;31mKeyError\u001B[0m: 'id'",
      "\nThe above exception was the direct cause of the following exception:\n",
      "\u001B[0;31mKeyError\u001B[0m                                  Traceback (most recent call last)",
      "\u001B[0;32m<ipython-input-4-5f840bc7ddb1>\u001B[0m in \u001B[0;36m<module>\u001B[0;34m\u001B[0m\n\u001B[1;32m      6\u001B[0m \u001B[0;34m\u001B[0m\u001B[0m\n\u001B[1;32m      7\u001B[0m \u001B[0mprint\u001B[0m\u001B[0;34m(\u001B[0m\u001B[0;34m\"ID especial\"\u001B[0m\u001B[0;34m)\u001B[0m\u001B[0;34m\u001B[0m\u001B[0;34m\u001B[0m\u001B[0m\n\u001B[0;32m----> 8\u001B[0;31m \u001B[0mprint\u001B[0m\u001B[0;34m(\u001B[0m\u001B[0mpd\u001B[0m\u001B[0;34m.\u001B[0m\u001B[0mconcat\u001B[0m\u001B[0;34m(\u001B[0m\u001B[0;34m[\u001B[0m\u001B[0mdf\u001B[0m\u001B[0;34m.\u001B[0m\u001B[0mloc\u001B[0m\u001B[0;34m[\u001B[0m\u001B[0mdf\u001B[0m\u001B[0;34m[\u001B[0m\u001B[0;34m'id'\u001B[0m\u001B[0;34m]\u001B[0m \u001B[0;34m==\u001B[0m \u001B[0;36m2001320802\u001B[0m\u001B[0;34m]\u001B[0m\u001B[0;34m,\u001B[0m \u001B[0mdf\u001B[0m\u001B[0;34m.\u001B[0m\u001B[0mloc\u001B[0m\u001B[0;34m[\u001B[0m\u001B[0mdf\u001B[0m\u001B[0;34m[\u001B[0m\u001B[0;34m'id'\u001B[0m\u001B[0;34m]\u001B[0m \u001B[0;34m==\u001B[0m \u001B[0;36m2002151000\u001B[0m\u001B[0;34m]\u001B[0m\u001B[0;34m]\u001B[0m\u001B[0;34m)\u001B[0m\u001B[0;34m.\u001B[0m\u001B[0mto_markdown\u001B[0m\u001B[0;34m(\u001B[0m\u001B[0;34m)\u001B[0m\u001B[0;34m)\u001B[0m\u001B[0;34m\u001B[0m\u001B[0;34m\u001B[0m\u001B[0m\n\u001B[0m\u001B[1;32m      9\u001B[0m \u001B[0;31m# print(df.loc[df['id'] == 2002151000])\u001B[0m\u001B[0;34m\u001B[0m\u001B[0;34m\u001B[0m\u001B[0;34m\u001B[0m\u001B[0m\n\u001B[1;32m     10\u001B[0m \u001B[0;34m\u001B[0m\u001B[0m\n",
      "\u001B[0;32m~/.local/lib/python3.8/site-packages/pandas/core/frame.py\u001B[0m in \u001B[0;36m__getitem__\u001B[0;34m(self, key)\u001B[0m\n\u001B[1;32m   2904\u001B[0m             \u001B[0;32mif\u001B[0m \u001B[0mself\u001B[0m\u001B[0;34m.\u001B[0m\u001B[0mcolumns\u001B[0m\u001B[0;34m.\u001B[0m\u001B[0mnlevels\u001B[0m \u001B[0;34m>\u001B[0m \u001B[0;36m1\u001B[0m\u001B[0;34m:\u001B[0m\u001B[0;34m\u001B[0m\u001B[0;34m\u001B[0m\u001B[0m\n\u001B[1;32m   2905\u001B[0m                 \u001B[0;32mreturn\u001B[0m \u001B[0mself\u001B[0m\u001B[0;34m.\u001B[0m\u001B[0m_getitem_multilevel\u001B[0m\u001B[0;34m(\u001B[0m\u001B[0mkey\u001B[0m\u001B[0;34m)\u001B[0m\u001B[0;34m\u001B[0m\u001B[0;34m\u001B[0m\u001B[0m\n\u001B[0;32m-> 2906\u001B[0;31m             \u001B[0mindexer\u001B[0m \u001B[0;34m=\u001B[0m \u001B[0mself\u001B[0m\u001B[0;34m.\u001B[0m\u001B[0mcolumns\u001B[0m\u001B[0;34m.\u001B[0m\u001B[0mget_loc\u001B[0m\u001B[0;34m(\u001B[0m\u001B[0mkey\u001B[0m\u001B[0;34m)\u001B[0m\u001B[0;34m\u001B[0m\u001B[0;34m\u001B[0m\u001B[0m\n\u001B[0m\u001B[1;32m   2907\u001B[0m             \u001B[0;32mif\u001B[0m \u001B[0mis_integer\u001B[0m\u001B[0;34m(\u001B[0m\u001B[0mindexer\u001B[0m\u001B[0;34m)\u001B[0m\u001B[0;34m:\u001B[0m\u001B[0;34m\u001B[0m\u001B[0;34m\u001B[0m\u001B[0m\n\u001B[1;32m   2908\u001B[0m                 \u001B[0mindexer\u001B[0m \u001B[0;34m=\u001B[0m \u001B[0;34m[\u001B[0m\u001B[0mindexer\u001B[0m\u001B[0;34m]\u001B[0m\u001B[0;34m\u001B[0m\u001B[0;34m\u001B[0m\u001B[0m\n",
      "\u001B[0;32m~/.local/lib/python3.8/site-packages/pandas/core/indexes/base.py\u001B[0m in \u001B[0;36mget_loc\u001B[0;34m(self, key, method, tolerance)\u001B[0m\n\u001B[1;32m   2895\u001B[0m                 \u001B[0;32mreturn\u001B[0m \u001B[0mself\u001B[0m\u001B[0;34m.\u001B[0m\u001B[0m_engine\u001B[0m\u001B[0;34m.\u001B[0m\u001B[0mget_loc\u001B[0m\u001B[0;34m(\u001B[0m\u001B[0mcasted_key\u001B[0m\u001B[0;34m)\u001B[0m\u001B[0;34m\u001B[0m\u001B[0;34m\u001B[0m\u001B[0m\n\u001B[1;32m   2896\u001B[0m             \u001B[0;32mexcept\u001B[0m \u001B[0mKeyError\u001B[0m \u001B[0;32mas\u001B[0m \u001B[0merr\u001B[0m\u001B[0;34m:\u001B[0m\u001B[0;34m\u001B[0m\u001B[0;34m\u001B[0m\u001B[0m\n\u001B[0;32m-> 2897\u001B[0;31m                 \u001B[0;32mraise\u001B[0m \u001B[0mKeyError\u001B[0m\u001B[0;34m(\u001B[0m\u001B[0mkey\u001B[0m\u001B[0;34m)\u001B[0m \u001B[0;32mfrom\u001B[0m \u001B[0merr\u001B[0m\u001B[0;34m\u001B[0m\u001B[0;34m\u001B[0m\u001B[0m\n\u001B[0m\u001B[1;32m   2898\u001B[0m \u001B[0;34m\u001B[0m\u001B[0m\n\u001B[1;32m   2899\u001B[0m         \u001B[0;32mif\u001B[0m \u001B[0mtolerance\u001B[0m \u001B[0;32mis\u001B[0m \u001B[0;32mnot\u001B[0m \u001B[0;32mNone\u001B[0m\u001B[0;34m:\u001B[0m\u001B[0;34m\u001B[0m\u001B[0;34m\u001B[0m\u001B[0m\n",
      "\u001B[0;31mKeyError\u001B[0m: 'id'"
     ]
    }
   ],
   "source": [
    "# Si separem solament Catalunya\n",
    "cat = df.loc[df['idcomunidad'] == 2]\n",
    "print(cat.head)\n",
    "print('Shape')\n",
    "print(cat.shape)\n",
    "\n",
    "print(\"ID especial\")\n",
    "print(pd.concat([df.loc[df['id'] == 2001320802], df.loc[df['id'] == 2002151000]]).to_markdown())\n",
    "# print(df.loc[df['id'] == 2002151000])\n",
    "\n",
    "print(\"ID cremat molt\")\n",
    "print(df.loc[df['superficie'] == 28879.10])"
   ],
   "metadata": {
    "collapsed": false,
    "pycharm": {
     "name": "#%%\n"
    }
   }
  },
  {
   "cell_type": "markdown",
   "source": [
    "## Preprocessing\n",
    "\n",
    "### Tractament de missing values"
   ],
   "metadata": {
    "collapsed": false,
    "pycharm": {
     "name": "#%% md\n"
    }
   }
  },
  {
   "cell_type": "code",
   "execution_count": null,
   "outputs": [],
   "source": [
    "print(df.duplicated(subset='id', keep=\"first\"))"
   ],
   "metadata": {
    "collapsed": false,
    "pycharm": {
     "name": "#%%\n"
    }
   }
  },
  {
   "cell_type": "code",
   "execution_count": null,
   "outputs": [],
   "source": [
    "# Columnes amb missing values, també es pot veure al describe del\n",
    "# dataset a les variables que no tinguin un count de 82640\n",
    "print(df.columns[df.isnull().any()].tolist())\n",
    "\n",
    "# Sobre la \"causa supuesta\" és normal que hi hagin instàncies sense valor ja que \n",
    "# idmunicipio 999, i 998 ens carreguem els que no tinguin lat i long ja que són incendis originats fora d'Espanya\n",
    "df.dropna(subset=['lat', 'lng'], inplace=True)\n",
    "\n",
    "# Comencem per emplenar els missing values de muertos i heridos ja que\n",
    "# si no hi han dades suposarem que són 0.\n",
    "df['muertos'].fillna(0, inplace=True)\n",
    "df['heridos'].fillna(0, inplace=True)\n",
    "\n",
    "# Causa supuesta la posem a 0\n",
    "df['causa_supuesta'].fillna(0, inplace=True)\n",
    "\n",
    "# Posem a 0 gastos i perdidas\n",
    "df['gastos'].fillna(0, inplace=True)\n",
    "df['perdidas'].fillna(0, inplace=True)\n",
    "\n",
    "# df.describe()\n",
    "\n",
    "print(df.columns[df.isnull().any()].tolist())"
   ],
   "metadata": {
    "collapsed": false,
    "pycharm": {
     "name": "#%%\n"
    }
   }
  },
  {
   "cell_type": "code",
   "execution_count": null,
   "metadata": {},
   "outputs": [],
   "source": [
    "aux = df.loc[df['idmunicipio'] == 999]\n",
    "latMissing = df.loc[np.isnan(df['lat'])]\n",
    "print(aux.shape)\n",
    "print(latMissing.shape)\n",
    "print(latMissing)"
   ]
  },
  {
   "cell_type": "markdown",
   "source": [
    "## Separem target del dataset\n",
    "Volem predir la superfície cremada donat un incendi per tant separem aquesta variable de la resta."
   ],
   "metadata": {
    "collapsed": false,
    "pycharm": {
     "name": "#%% md\n"
    }
   }
  },
  {
   "cell_type": "code",
   "source": [
    "X = df.drop('superficie', axis=1)\n",
    "y = df['superficie']\n",
    "\n",
    "# Comprovem que al target no hi hagin nulls\n",
    "print(y.isnull().values.any())\n"
   ],
   "metadata": {
    "collapsed": false,
    "pycharm": {
     "name": "#%%\n"
    }
   },
   "execution_count": null,
   "outputs": []
  }
 ],
 "metadata": {
  "kernelspec": {
   "display_name": "Python 3",
   "language": "python",
   "name": "python3"
  },
  "language_info": {
   "codemirror_mode": {
    "name": "ipython",
    "version": 3
   },
   "file_extension": ".py",
   "mimetype": "text/x-python",
   "name": "python",
   "nbconvert_exporter": "python",
   "pygments_lexer": "ipython3",
   "version": "3.8.5-final"
  }
 },
 "nbformat": 4,
 "nbformat_minor": 4
}