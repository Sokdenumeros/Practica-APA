{
 "cells": [
  {
   "cell_type": "markdown",
   "source": [
    "# Practica APA - predicció superfície cremada d'un incendi\n",
    "Sergi Curto Panisello,\n",
    "Joan Melchor Lladó\n",
    "\n",
    "## Imports"
   ],
   "metadata": {
    "collapsed": false
   }
  },
  {
   "cell_type": "code",
   "execution_count": 50,
   "metadata": {},
   "outputs": [],
   "source": [
    "import pandas as pd\n",
    "import numpy as np\n",
    "import tabulate"
   ]
  },
  {
   "cell_type": "markdown",
   "source": [
    "## Obtenim les dades\n",
    "Procedim a agafar les dades en format csv descarregades de https://datos.civio.es/dataset/todos-los-incendios-forestales/"
   ],
   "metadata": {
    "collapsed": false
   }
  },
  {
   "cell_type": "code",
   "execution_count": 39,
   "outputs": [
    {
     "name": "stdout",
     "output_type": "stream",
     "text": [
      "                 id    superficie           lat           lng  \\\n",
      "count  8.264000e+04  82640.000000  82616.000000  82616.000000   \n",
      "mean   2.007259e+09     19.888085     41.763721     -5.664360   \n",
      "std    4.247106e+06    223.787536      2.019672      4.394031   \n",
      "min    2.001010e+09      1.000000      0.490720  -1000.000000   \n",
      "25%    2.003390e+09      1.500000     40.876544     -7.257298   \n",
      "50%    2.006330e+09      3.000000     42.371123     -6.019478   \n",
      "75%    2.011150e+09      7.150000     43.143145     -4.303078   \n",
      "max    2.015510e+09  28879.100000     87.824157    242.755603   \n",
      "\n",
      "       latlng_explicit   idcomunidad   idprovincia   idmunicipio  \\\n",
      "count     82640.000000  82640.000000  82640.000000  82640.000000   \n",
      "mean          0.741626      7.850278     28.411375     77.795946   \n",
      "std           0.437743      5.419922     11.727155     98.867769   \n",
      "min           0.000000      1.000000      1.000000      1.000000   \n",
      "25%           0.000000      3.000000     21.000000     27.000000   \n",
      "50%           1.000000      5.000000     32.000000     52.000000   \n",
      "75%           1.000000     14.000000     36.000000     92.000000   \n",
      "max           1.000000     18.000000     51.000000    999.000000   \n",
      "\n",
      "              causa  causa_supuesta    causa_desc      muertos      heridos  \\\n",
      "count  82640.000000         46465.0  82640.000000  2724.000000  3071.000000   \n",
      "mean       3.695051             1.0     12.216917     0.021292     0.197981   \n",
      "std        1.032923             0.0     24.631048     0.298586     0.716858   \n",
      "min        1.000000             1.0      0.000000     0.000000     0.000000   \n",
      "25%        4.000000             1.0      0.000000     0.000000     0.000000   \n",
      "50%        4.000000             1.0      2.000000     0.000000     0.000000   \n",
      "75%        4.000000             1.0     10.000000     0.000000     0.000000   \n",
      "max        6.000000             1.0     99.000000    11.000000    12.000000   \n",
      "\n",
      "           time_ctrl       time_ext      personal        medios        gastos  \\\n",
      "count   82640.000000   82640.000000  82640.000000  82640.000000  1.162400e+04   \n",
      "mean      236.247302     523.010733     21.188093      3.143224  7.500955e+03   \n",
      "std       901.186810    2560.985781     48.210975      6.180303  3.939254e+04   \n",
      "min         0.000000       0.000000      0.000000      0.000000  0.000000e+00   \n",
      "25%        64.000000     134.000000      5.000000      1.000000  3.560000e+02   \n",
      "50%       118.000000     221.000000     11.000000      2.000000  1.107000e+03   \n",
      "75%       210.000000     415.000000     23.000000      3.000000  3.682750e+03   \n",
      "max    132555.000000  529682.000000   3979.000000    310.000000  1.426641e+06   \n",
      "\n",
      "           perdidas  \n",
      "count  3.434900e+04  \n",
      "mean   3.230666e+04  \n",
      "std    4.315912e+05  \n",
      "min   -2.896100e+04  \n",
      "25%    1.020000e+02  \n",
      "50%    1.323000e+03  \n",
      "75%    5.738000e+03  \n",
      "max    3.064011e+07  \n"
     ]
    }
   ],
   "source": [
    "df = pd.read_csv('fires-all.csv')\n",
    "print(df.describe())"
   ],
   "metadata": {
    "collapsed": false,
    "pycharm": {
     "name": "#%%\n"
    }
   }
  },
  {
   "cell_type": "code",
   "execution_count": 51,
   "outputs": [
    {
     "name": "stdout",
     "output_type": "stream",
     "text": [
      "<bound method NDFrame.head of                id  superficie       fecha        lat       lng  \\\n",
      "423    2001080017        1.00  2001-02-22  41.667672  2.066639   \n",
      "424    2001080032        6.00  2001-03-29  41.300741  1.666971   \n",
      "425    2001080039        1.00  2001-04-07  41.474125  1.973610   \n",
      "426    2001080041        1.33  2001-04-08  41.483501  1.584177   \n",
      "427    2001080043        2.00  2001-04-08  41.511833  2.321732   \n",
      "...           ...         ...         ...        ...       ...   \n",
      "82298  2015430102        1.63  2015-11-25  41.266186  1.154032   \n",
      "82299  2015430116       23.23  2015-06-09  41.175501  0.813588   \n",
      "82300  2015430117       45.03  2015-08-24  40.940658  0.826569   \n",
      "82301  2015430118       29.00  2015-08-29  41.268525  0.883916   \n",
      "82302  2015430119        6.76  2015-10-22  41.004475  0.491856   \n",
      "\n",
      "       latlng_explicit  idcomunidad  idprovincia  idmunicipio  \\\n",
      "423                  1            2            8          223   \n",
      "424                  1            2            8          251   \n",
      "425                  1            2            8           54   \n",
      "426                  1            2            8          122   \n",
      "427                  1            2            8          281   \n",
      "...                ...          ...          ...          ...   \n",
      "82298                1            2           43            5   \n",
      "82299                1            2           43           55   \n",
      "82300                1            2           43           13   \n",
      "82301                1            2           43           49   \n",
      "82302                1            2           43          106   \n",
      "\n",
      "                          municipio  ...  causa_supuesta  causa_desc  muertos  \\\n",
      "423             SANT LLORENÇ SAVALL  ...             NaN          30      NaN   \n",
      "424    SANTA MARGARIDA I ELS MONJOS  ...             1.0          19      NaN   \n",
      "425                   CASTELLBISBAL  ...             1.0          19      NaN   \n",
      "426                         MEDIONA  ...             NaN          20      1.0   \n",
      "427                            TEIÀ  ...             1.0          19      NaN   \n",
      "...                             ...  ...             ...         ...      ...   \n",
      "82298                       ALCOVER  ...             NaN          20      NaN   \n",
      "82299                        FALSET  ...             NaN           0      NaN   \n",
      "82300            AMETLLA DE MAR, L'  ...             NaN           0      NaN   \n",
      "82301        CORNUDELLA DE MONTSANT  ...             1.0           0      NaN   \n",
      "82302               PINELL BRAI, EL  ...             NaN          12      NaN   \n",
      "\n",
      "       heridos  time_ctrl  time_ext  personal  medios  gastos  perdidas  \n",
      "423        NaN        130       160        27       4     NaN       NaN  \n",
      "424        NaN        171      1221        58      16     NaN       NaN  \n",
      "425        NaN         87       147        60      10     NaN       NaN  \n",
      "426        NaN        245       410        30      10     NaN       NaN  \n",
      "427        NaN        110       180        30       9     NaN       NaN  \n",
      "...        ...        ...       ...       ...     ...     ...       ...  \n",
      "82298      NaN        165       300        50      11     NaN       NaN  \n",
      "82299      NaN        390      1518       196      75     NaN       NaN  \n",
      "82300      NaN        618      2278       233      64     NaN       NaN  \n",
      "82301      NaN       1615      3013       210      53     NaN       NaN  \n",
      "82302      NaN        115       130        81      17     NaN       NaN  \n",
      "\n",
      "[1325 rows x 21 columns]>\n",
      "Shape\n",
      "(1325, 21)\n",
      "ID especial\n",
      "|      |         id |   superficie | fecha      |     lat |      lng |   latlng_explicit |   idcomunidad |   idprovincia |   idmunicipio | municipio       |   causa |   causa_supuesta |   causa_desc |   muertos |   heridos |   time_ctrl |   time_ext |   personal |   medios |   gastos |   perdidas |\n",
      "|-----:|-----------:|-------------:|:-----------|--------:|---------:|------------------:|--------------:|--------------:|--------------:|:----------------|--------:|-----------------:|-------------:|----------:|----------:|------------:|-----------:|-----------:|---------:|---------:|-----------:|\n",
      "| 3476 | 2001320802 |          4   | 2001-08-11 | 42.183  | -7.64379 |                 1 |             3 |            32 |            89 | VILAR DE BARRIO |       4 |                1 |            2 |       nan |       nan |          45 |         54 |         16 |        2 |      nan |        nan |\n",
      "| 8423 | 2002151000 |          8.5 | 2002-07-25 | 42.7868 | -8.40984 |                 1 |             3 |            15 |            89 | VEDRA           |       4 |                1 |            2 |       nan |       nan |         255 |        400 |         54 |        9 |      nan |      10372 |\n",
      "ID cremat molt\n",
      "               id  superficie       fecha        lat       lng  \\\n",
      "71833  2012460248     28879.1  2012-06-28  39.269116 -0.955787   \n",
      "\n",
      "       latlng_explicit  idcomunidad  idprovincia  idmunicipio  \\\n",
      "71833                1            9           46           99   \n",
      "\n",
      "              municipio  ...  causa_supuesta  causa_desc  muertos  heridos  \\\n",
      "71833  CORTES DE PALLÁS  ...             NaN          30      NaN      NaN   \n",
      "\n",
      "       time_ctrl  time_ext  personal  medios  gastos    perdidas  \n",
      "71833      10320     24772      1540     146     NaN  12607966.0  \n",
      "\n",
      "[1 rows x 21 columns]\n"
     ]
    }
   ],
   "source": [
    "# Si separem solament Catalunya\n",
    "cat = df.loc[df['idcomunidad'] == 2]\n",
    "print(cat.head)\n",
    "print('Shape')\n",
    "print(cat.shape)\n",
    "\n",
    "print(\"ID especial\")\n",
    "print(pd.concat([df.loc[df['id'] == 2001320802], df.loc[df['id'] == 2002151000]]).to_markdown())\n",
    "# print(df.loc[df['id'] == 2002151000])\n",
    "\n",
    "print(\"ID cremat molt\")\n",
    "print(df.loc[df['superficie'] == 28879.10])"
   ],
   "metadata": {
    "collapsed": false,
    "pycharm": {
     "name": "#%%\n"
    }
   }
  },
  {
   "cell_type": "markdown",
   "source": [
    "## Preprocessing\n",
    "\n",
    "### Tractament de missing values"
   ],
   "metadata": {
    "collapsed": false,
    "pycharm": {
     "name": "#%% md\n"
    }
   }
  },
  {
   "cell_type": "code",
   "execution_count": 34,
   "outputs": [
    {
     "name": "stdout",
     "output_type": "stream",
     "text": [
      "['lat', 'lng', 'causa_supuesta', 'muertos', 'heridos', 'gastos', 'perdidas']\n",
      "[]\n"
     ]
    }
   ],
   "source": [
    "# Columnes amb missing values, també es pot veure al describe del\n",
    "# dataset a les variables que no tinguin un count de 82640\n",
    "print(df.columns[df.isnull().any()].tolist())\n",
    "\n",
    "# Sobre la \"causa supuesta\" és normal que hi hagin instàncies sense valor ja que \n",
    "# idmunicipio 999, i 998 ens carreguem els que no tinguin lat i long ja que són incendis originats fora d'Espanya\n",
    "df.dropna(subset=['lat', 'lng'], inplace=True)\n",
    "\n",
    "# Comencem per emplenar els missing values de muertos i heridos ja que\n",
    "# si no hi han dades suposarem que són 0.\n",
    "df['muertos'].fillna(0, inplace=True)\n",
    "df['heridos'].fillna(0, inplace=True)\n",
    "\n",
    "# Causa supuesta la posem a 0\n",
    "df['causa_supuesta'].fillna(0, inplace=True)\n",
    "\n",
    "# Posem a 0 gastos i perdidas\n",
    "df['gastos'].fillna(0, inplace=True)\n",
    "df['perdidas'].fillna(0, inplace=True)\n",
    "\n",
    "# df.describe()\n",
    "\n",
    "print(df.columns[df.isnull().any()].tolist())"
   ],
   "metadata": {
    "collapsed": false,
    "pycharm": {
     "name": "#%%\n"
    }
   }
  },
  {
   "cell_type": "code",
   "execution_count": 35,
   "metadata": {},
   "outputs": [
    {
     "name": "stdout",
     "output_type": "stream",
     "text": [
      "(72, 21)\n",
      "(0, 21)\n",
      "Empty DataFrame\n",
      "Columns: [id, superficie, fecha, lat, lng, latlng_explicit, idcomunidad, idprovincia, idmunicipio, municipio, causa, causa_supuesta, causa_desc, muertos, heridos, time_ctrl, time_ext, personal, medios, gastos, perdidas]\n",
      "Index: []\n",
      "\n",
      "[0 rows x 21 columns]\n"
     ]
    }
   ],
   "source": [
    "aux = df.loc[df['idmunicipio'] == 999]\n",
    "latMissing = df.loc[np.isnan(df['lat'])]\n",
    "print(aux.shape)\n",
    "print(latMissing.shape)\n",
    "print(latMissing)"
   ]
  },
  {
   "cell_type": "markdown",
   "source": [
    "## Separem target del dataset\n",
    "Volem predir la superfície cremada donat un incendi per tant separem aquesta variable de la resta."
   ],
   "metadata": {
    "collapsed": false,
    "pycharm": {
     "name": "#%% md\n"
    }
   }
  },
  {
   "cell_type": "code",
   "source": [
    "X = df.drop('superficie', axis=1)\n",
    "y = df['superficie']\n",
    "\n",
    "# Comprovem que al target no hi hagin nulls\n",
    "print(y.isnull().values.any())\n"
   ],
   "metadata": {
    "collapsed": false,
    "pycharm": {
     "name": "#%%\n"
    }
   },
   "execution_count": 36,
   "outputs": [
    {
     "name": "stdout",
     "output_type": "stream",
     "text": [
      "False\n"
     ]
    }
   ]
  }
 ],
 "metadata": {
  "kernelspec": {
   "display_name": "Python 3",
   "language": "python",
   "name": "python3"
  },
  "language_info": {
   "codemirror_mode": {
    "name": "ipython",
    "version": 3
   },
   "file_extension": ".py",
   "mimetype": "text/x-python",
   "name": "python",
   "nbconvert_exporter": "python",
   "pygments_lexer": "ipython3",
   "version": "3.8.5-final"
  }
 },
 "nbformat": 4,
 "nbformat_minor": 4
}