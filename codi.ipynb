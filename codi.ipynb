{
 "cells": [
  {
   "cell_type": "markdown",
   "source": [
    "# Practica APA - predicció superfície cremada d'un incendi\n",
    "Sergi Curto Panisello,\n",
    "Joan Melchor Lladó\n",
    "\n",
    "## Imports"
   ],
   "metadata": {
    "collapsed": false
   }
  },
  {
   "cell_type": "code",
   "execution_count": 17,
   "metadata": {},
   "outputs": [],
   "source": [
    "import pandas as pd\n",
    "import numpy as np"
   ]
  },
  {
   "cell_type": "markdown",
   "source": [
    "## Obtenim les dades\n",
    "Procedim a agafar les dades en format csv descarregades de https://datos.civio.es/dataset/todos-los-incendios-forestales/"
   ],
   "metadata": {
    "collapsed": false
   }
  },
  {
   "cell_type": "code",
   "execution_count": 2,
   "outputs": [
    {
     "output_type": "stream",
     "name": "stdout",
     "text": [
      "                 id    superficie           lat           lng  \\\ncount  8.264000e+04  82640.000000  82616.000000  82616.000000   \nmean   2.007259e+09     19.888085     41.763721     -5.664360   \nstd    4.247106e+06    223.787536      2.019672      4.394031   \nmin    2.001010e+09      1.000000      0.490720  -1000.000000   \n25%    2.003390e+09      1.500000     40.876544     -7.257298   \n50%    2.006330e+09      3.000000     42.371123     -6.019478   \n75%    2.011150e+09      7.150000     43.143145     -4.303078   \nmax    2.015510e+09  28879.100000     87.824157    242.755603   \n\n       latlng_explicit   idcomunidad   idprovincia   idmunicipio  \\\ncount     82640.000000  82640.000000  82640.000000  82640.000000   \nmean          0.741626      7.850278     28.411375     77.795946   \nstd           0.437743      5.419922     11.727155     98.867769   \nmin           0.000000      1.000000      1.000000      1.000000   \n25%           0.000000      3.000000     21.000000     27.000000   \n50%           1.000000      5.000000     32.000000     52.000000   \n75%           1.000000     14.000000     36.000000     92.000000   \nmax           1.000000     18.000000     51.000000    999.000000   \n\n              causa  causa_supuesta    causa_desc      muertos      heridos  \\\ncount  82640.000000         46465.0  82640.000000  2724.000000  3071.000000   \nmean       3.695051             1.0     12.216917     0.021292     0.197981   \nstd        1.032923             0.0     24.631048     0.298586     0.716858   \nmin        1.000000             1.0      0.000000     0.000000     0.000000   \n25%        4.000000             1.0      0.000000     0.000000     0.000000   \n50%        4.000000             1.0      2.000000     0.000000     0.000000   \n75%        4.000000             1.0     10.000000     0.000000     0.000000   \nmax        6.000000             1.0     99.000000    11.000000    12.000000   \n\n           time_ctrl       time_ext      personal        medios        gastos  \\\ncount   82640.000000   82640.000000  82640.000000  82640.000000  1.162400e+04   \nmean      236.247302     523.010733     21.188093      3.143224  7.500955e+03   \nstd       901.186810    2560.985781     48.210975      6.180303  3.939254e+04   \nmin         0.000000       0.000000      0.000000      0.000000  0.000000e+00   \n25%        64.000000     134.000000      5.000000      1.000000  3.560000e+02   \n50%       118.000000     221.000000     11.000000      2.000000  1.107000e+03   \n75%       210.000000     415.000000     23.000000      3.000000  3.682750e+03   \nmax    132555.000000  529682.000000   3979.000000    310.000000  1.426641e+06   \n\n           perdidas  \ncount  3.434900e+04  \nmean   3.230666e+04  \nstd    4.315912e+05  \nmin   -2.896100e+04  \n25%    1.020000e+02  \n50%    1.323000e+03  \n75%    5.738000e+03  \nmax    3.064011e+07  \n"
     ]
    }
   ],
   "source": [
    "df = pd.read_csv('fires-all.csv')\n",
    "print(df.describe())"
   ],
   "metadata": {
    "collapsed": false,
    "pycharm": {
     "name": "#%%\n"
    }
   }
  },
  {
   "cell_type": "code",
   "execution_count": 9,
   "outputs": [
    {
     "output_type": "stream",
     "name": "stdout",
     "text": [
      "<bound method NDFrame.head of                id  superficie       fecha        lat       lng  \\\n423    2001080017        1.00  2001-02-22  41.667672  2.066639   \n424    2001080032        6.00  2001-03-29  41.300741  1.666971   \n425    2001080039        1.00  2001-04-07  41.474125  1.973610   \n426    2001080041        1.33  2001-04-08  41.483501  1.584177   \n427    2001080043        2.00  2001-04-08  41.511833  2.321732   \n...           ...         ...         ...        ...       ...   \n82298  2015430102        1.63  2015-11-25  41.266186  1.154032   \n82299  2015430116       23.23  2015-06-09  41.175501  0.813588   \n82300  2015430117       45.03  2015-08-24  40.940658  0.826569   \n82301  2015430118       29.00  2015-08-29  41.268525  0.883916   \n82302  2015430119        6.76  2015-10-22  41.004475  0.491856   \n\n       latlng_explicit  idcomunidad  idprovincia  idmunicipio  \\\n423                  1            2            8          223   \n424                  1            2            8          251   \n425                  1            2            8           54   \n426                  1            2            8          122   \n427                  1            2            8          281   \n...                ...          ...          ...          ...   \n82298                1            2           43            5   \n82299                1            2           43           55   \n82300                1            2           43           13   \n82301                1            2           43           49   \n82302                1            2           43          106   \n\n                          municipio  ...  causa_supuesta  causa_desc  muertos  \\\n423             SANT LLORENÇ SAVALL  ...             NaN          30      0.0   \n424    SANTA MARGARIDA I ELS MONJOS  ...             1.0          19      0.0   \n425                   CASTELLBISBAL  ...             1.0          19      0.0   \n426                         MEDIONA  ...             NaN          20      1.0   \n427                            TEIÀ  ...             1.0          19      0.0   \n...                             ...  ...             ...         ...      ...   \n82298                       ALCOVER  ...             NaN          20      0.0   \n82299                        FALSET  ...             NaN           0      0.0   \n82300            AMETLLA DE MAR, L'  ...             NaN           0      0.0   \n82301        CORNUDELLA DE MONTSANT  ...             1.0           0      0.0   \n82302               PINELL BRAI, EL  ...             NaN          12      0.0   \n\n       heridos  time_ctrl  time_ext  personal  medios  gastos  perdidas  \n423        0.0        130       160        27       4     NaN       NaN  \n424        0.0        171      1221        58      16     NaN       NaN  \n425        0.0         87       147        60      10     NaN       NaN  \n426        0.0        245       410        30      10     NaN       NaN  \n427        0.0        110       180        30       9     NaN       NaN  \n...        ...        ...       ...       ...     ...     ...       ...  \n82298      0.0        165       300        50      11     NaN       NaN  \n82299      0.0        390      1518       196      75     NaN       NaN  \n82300      0.0        618      2278       233      64     NaN       NaN  \n82301      0.0       1615      3013       210      53     NaN       NaN  \n82302      0.0        115       130        81      17     NaN       NaN  \n\n[1325 rows x 21 columns]>\nShape\n(1325, 21)\n"
     ]
    }
   ],
   "source": [
    "# Si separem solament Catalunya\n",
    "cat = df.loc[df['idcomunidad'] == 2]\n",
    "print(cat.head)\n",
    "print('Shape')\n",
    "print(cat.shape)\n"
   ],
   "metadata": {
    "collapsed": false,
    "pycharm": {
     "name": "#%%\n"
    }
   }
  },
  {
   "cell_type": "markdown",
   "source": [
    "## Preprocessing\n",
    "\n",
    "### Tractament de missing values"
   ],
   "metadata": {
    "collapsed": false,
    "pycharm": {
     "name": "#%% md\n"
    }
   }
  },
  {
   "cell_type": "code",
   "execution_count": 14,
   "outputs": [
    {
     "output_type": "stream",
     "name": "stdout",
     "text": [
      "['lat', 'lng', 'causa_supuesta', 'gastos', 'perdidas']\n"
     ]
    },
    {
     "output_type": "execute_result",
     "data": {
      "text/plain": [
       "                 id    superficie           lat           lng  \\\n",
       "count  8.264000e+04  82640.000000  82616.000000  82616.000000   \n",
       "mean   2.007259e+09     19.888085     41.763721     -5.664360   \n",
       "std    4.247106e+06    223.787536      2.019672      4.394031   \n",
       "min    2.001010e+09      1.000000      0.490720  -1000.000000   \n",
       "25%    2.003390e+09      1.500000     40.876544     -7.257298   \n",
       "50%    2.006330e+09      3.000000     42.371123     -6.019478   \n",
       "75%    2.011150e+09      7.150000     43.143145     -4.303078   \n",
       "max    2.015510e+09  28879.100000     87.824157    242.755603   \n",
       "\n",
       "       latlng_explicit   idcomunidad   idprovincia   idmunicipio  \\\n",
       "count     82640.000000  82640.000000  82640.000000  82640.000000   \n",
       "mean          0.741626      7.850278     28.411375     77.795946   \n",
       "std           0.437743      5.419922     11.727155     98.867769   \n",
       "min           0.000000      1.000000      1.000000      1.000000   \n",
       "25%           0.000000      3.000000     21.000000     27.000000   \n",
       "50%           1.000000      5.000000     32.000000     52.000000   \n",
       "75%           1.000000     14.000000     36.000000     92.000000   \n",
       "max           1.000000     18.000000     51.000000    999.000000   \n",
       "\n",
       "              causa  causa_supuesta    causa_desc       muertos       heridos  \\\n",
       "count  82640.000000         46465.0  82640.000000  82640.000000  82640.000000   \n",
       "mean       3.695051             1.0     12.216917      0.000702      0.007357   \n",
       "std        1.032923             0.0     24.631048      0.054333      0.143154   \n",
       "min        1.000000             1.0      0.000000      0.000000      0.000000   \n",
       "25%        4.000000             1.0      0.000000      0.000000      0.000000   \n",
       "50%        4.000000             1.0      2.000000      0.000000      0.000000   \n",
       "75%        4.000000             1.0     10.000000      0.000000      0.000000   \n",
       "max        6.000000             1.0     99.000000     11.000000     12.000000   \n",
       "\n",
       "           time_ctrl       time_ext      personal        medios        gastos  \\\n",
       "count   82640.000000   82640.000000  82640.000000  82640.000000  1.162400e+04   \n",
       "mean      236.247302     523.010733     21.188093      3.143224  7.500955e+03   \n",
       "std       901.186810    2560.985781     48.210975      6.180303  3.939254e+04   \n",
       "min         0.000000       0.000000      0.000000      0.000000  0.000000e+00   \n",
       "25%        64.000000     134.000000      5.000000      1.000000  3.560000e+02   \n",
       "50%       118.000000     221.000000     11.000000      2.000000  1.107000e+03   \n",
       "75%       210.000000     415.000000     23.000000      3.000000  3.682750e+03   \n",
       "max    132555.000000  529682.000000   3979.000000    310.000000  1.426641e+06   \n",
       "\n",
       "           perdidas  \n",
       "count  3.434900e+04  \n",
       "mean   3.230666e+04  \n",
       "std    4.315912e+05  \n",
       "min   -2.896100e+04  \n",
       "25%    1.020000e+02  \n",
       "50%    1.323000e+03  \n",
       "75%    5.738000e+03  \n",
       "max    3.064011e+07  "
      ],
      "text/html": "<div>\n<style scoped>\n    .dataframe tbody tr th:only-of-type {\n        vertical-align: middle;\n    }\n\n    .dataframe tbody tr th {\n        vertical-align: top;\n    }\n\n    .dataframe thead th {\n        text-align: right;\n    }\n</style>\n<table border=\"1\" class=\"dataframe\">\n  <thead>\n    <tr style=\"text-align: right;\">\n      <th></th>\n      <th>id</th>\n      <th>superficie</th>\n      <th>lat</th>\n      <th>lng</th>\n      <th>latlng_explicit</th>\n      <th>idcomunidad</th>\n      <th>idprovincia</th>\n      <th>idmunicipio</th>\n      <th>causa</th>\n      <th>causa_supuesta</th>\n      <th>causa_desc</th>\n      <th>muertos</th>\n      <th>heridos</th>\n      <th>time_ctrl</th>\n      <th>time_ext</th>\n      <th>personal</th>\n      <th>medios</th>\n      <th>gastos</th>\n      <th>perdidas</th>\n    </tr>\n  </thead>\n  <tbody>\n    <tr>\n      <th>count</th>\n      <td>8.264000e+04</td>\n      <td>82640.000000</td>\n      <td>82616.000000</td>\n      <td>82616.000000</td>\n      <td>82640.000000</td>\n      <td>82640.000000</td>\n      <td>82640.000000</td>\n      <td>82640.000000</td>\n      <td>82640.000000</td>\n      <td>46465.0</td>\n      <td>82640.000000</td>\n      <td>82640.000000</td>\n      <td>82640.000000</td>\n      <td>82640.000000</td>\n      <td>82640.000000</td>\n      <td>82640.000000</td>\n      <td>82640.000000</td>\n      <td>1.162400e+04</td>\n      <td>3.434900e+04</td>\n    </tr>\n    <tr>\n      <th>mean</th>\n      <td>2.007259e+09</td>\n      <td>19.888085</td>\n      <td>41.763721</td>\n      <td>-5.664360</td>\n      <td>0.741626</td>\n      <td>7.850278</td>\n      <td>28.411375</td>\n      <td>77.795946</td>\n      <td>3.695051</td>\n      <td>1.0</td>\n      <td>12.216917</td>\n      <td>0.000702</td>\n      <td>0.007357</td>\n      <td>236.247302</td>\n      <td>523.010733</td>\n      <td>21.188093</td>\n      <td>3.143224</td>\n      <td>7.500955e+03</td>\n      <td>3.230666e+04</td>\n    </tr>\n    <tr>\n      <th>std</th>\n      <td>4.247106e+06</td>\n      <td>223.787536</td>\n      <td>2.019672</td>\n      <td>4.394031</td>\n      <td>0.437743</td>\n      <td>5.419922</td>\n      <td>11.727155</td>\n      <td>98.867769</td>\n      <td>1.032923</td>\n      <td>0.0</td>\n      <td>24.631048</td>\n      <td>0.054333</td>\n      <td>0.143154</td>\n      <td>901.186810</td>\n      <td>2560.985781</td>\n      <td>48.210975</td>\n      <td>6.180303</td>\n      <td>3.939254e+04</td>\n      <td>4.315912e+05</td>\n    </tr>\n    <tr>\n      <th>min</th>\n      <td>2.001010e+09</td>\n      <td>1.000000</td>\n      <td>0.490720</td>\n      <td>-1000.000000</td>\n      <td>0.000000</td>\n      <td>1.000000</td>\n      <td>1.000000</td>\n      <td>1.000000</td>\n      <td>1.000000</td>\n      <td>1.0</td>\n      <td>0.000000</td>\n      <td>0.000000</td>\n      <td>0.000000</td>\n      <td>0.000000</td>\n      <td>0.000000</td>\n      <td>0.000000</td>\n      <td>0.000000</td>\n      <td>0.000000e+00</td>\n      <td>-2.896100e+04</td>\n    </tr>\n    <tr>\n      <th>25%</th>\n      <td>2.003390e+09</td>\n      <td>1.500000</td>\n      <td>40.876544</td>\n      <td>-7.257298</td>\n      <td>0.000000</td>\n      <td>3.000000</td>\n      <td>21.000000</td>\n      <td>27.000000</td>\n      <td>4.000000</td>\n      <td>1.0</td>\n      <td>0.000000</td>\n      <td>0.000000</td>\n      <td>0.000000</td>\n      <td>64.000000</td>\n      <td>134.000000</td>\n      <td>5.000000</td>\n      <td>1.000000</td>\n      <td>3.560000e+02</td>\n      <td>1.020000e+02</td>\n    </tr>\n    <tr>\n      <th>50%</th>\n      <td>2.006330e+09</td>\n      <td>3.000000</td>\n      <td>42.371123</td>\n      <td>-6.019478</td>\n      <td>1.000000</td>\n      <td>5.000000</td>\n      <td>32.000000</td>\n      <td>52.000000</td>\n      <td>4.000000</td>\n      <td>1.0</td>\n      <td>2.000000</td>\n      <td>0.000000</td>\n      <td>0.000000</td>\n      <td>118.000000</td>\n      <td>221.000000</td>\n      <td>11.000000</td>\n      <td>2.000000</td>\n      <td>1.107000e+03</td>\n      <td>1.323000e+03</td>\n    </tr>\n    <tr>\n      <th>75%</th>\n      <td>2.011150e+09</td>\n      <td>7.150000</td>\n      <td>43.143145</td>\n      <td>-4.303078</td>\n      <td>1.000000</td>\n      <td>14.000000</td>\n      <td>36.000000</td>\n      <td>92.000000</td>\n      <td>4.000000</td>\n      <td>1.0</td>\n      <td>10.000000</td>\n      <td>0.000000</td>\n      <td>0.000000</td>\n      <td>210.000000</td>\n      <td>415.000000</td>\n      <td>23.000000</td>\n      <td>3.000000</td>\n      <td>3.682750e+03</td>\n      <td>5.738000e+03</td>\n    </tr>\n    <tr>\n      <th>max</th>\n      <td>2.015510e+09</td>\n      <td>28879.100000</td>\n      <td>87.824157</td>\n      <td>242.755603</td>\n      <td>1.000000</td>\n      <td>18.000000</td>\n      <td>51.000000</td>\n      <td>999.000000</td>\n      <td>6.000000</td>\n      <td>1.0</td>\n      <td>99.000000</td>\n      <td>11.000000</td>\n      <td>12.000000</td>\n      <td>132555.000000</td>\n      <td>529682.000000</td>\n      <td>3979.000000</td>\n      <td>310.000000</td>\n      <td>1.426641e+06</td>\n      <td>3.064011e+07</td>\n    </tr>\n  </tbody>\n</table>\n</div>"
     },
     "metadata": {},
     "execution_count": 14
    }
   ],
   "source": [
    "# Columnes amb missing values, també es pot veure al describe del\n",
    "# dataset a les variables que no tinguin un count de 82640\n",
    "print(df.columns[df.isnull().any()].tolist())\n",
    "\n",
    "# Sobre la \"causa supuesta\" és normal que hi hagin instàncies sense valor ja que \n",
    "# idmunicipio 999, i 998 ens carreguem els que no tinguin lat i long ja que són incendis originats fora d'Espanya\n",
    "\n",
    "# Comencem per emplenar els missing values de muertos i heridos ja que\n",
    "# si no hi han dades suposarem que són 0.\n",
    "df['muertos'] = df['muertos'].fillna(0)\n",
    "df['heridos'] = df['heridos'].fillna(0)\n",
    "\n",
    "df.describe()"
   ],
   "metadata": {
    "collapsed": false,
    "pycharm": {
     "name": "#%%\n"
    }
   }
  },
  {
   "cell_type": "code",
   "execution_count": 16,
   "metadata": {},
   "outputs": [
    {
     "output_type": "stream",
     "name": "stdout",
     "text": [
      "(89, 21)\n(24, 21)\n               id  superficie       fecha  lat  lng  latlng_explicit  \\\n62     2001030064        1.00  2001-06-22  NaN  NaN                0   \n1072   2001130024        4.00  2001-06-23  NaN  NaN                0   \n1134   2001130126        1.00  2001-09-02  NaN  NaN                0   \n2714   2001260056        5.00  2001-07-18  NaN  NaN                0   \n13579  2002370039        2.00  2002-06-26  NaN  NaN                0   \n13908  2002390277       27.50  2002-02-03  NaN  NaN                0   \n14397  2002480039        3.50  2002-03-19  NaN  NaN                0   \n14657  2002490315      140.90  2002-08-15  NaN  NaN                0   \n16537  2003190144      122.00  2003-07-31  NaN  NaN                0   \n17794  2003280197      207.70  2003-08-01  NaN  NaN                0   \n17950  2003310067        1.00  2003-03-24  NaN  NaN                0   \n17971  2003310097        2.00  2003-04-17  NaN  NaN                0   \n28556  2004480064        1.38  2004-09-01  NaN  NaN                0   \n36647  2005390161        1.50  2005-02-11  NaN  NaN                0   \n40673  2006310189       48.10  2006-04-14  NaN  NaN                0   \n40681  2006310261      240.00  2006-06-15  NaN  NaN                0   \n42163  2006331566        2.00  2006-09-02  NaN  NaN                0   \n45080  2007310041        5.00  2007-02-16  NaN  NaN                0   \n45088  2007310064        1.00  2007-03-03  NaN  NaN                0   \n46102  2007331093        5.00  2007-11-10  NaN  NaN                0   \n50636  2008390259      205.00  2008-02-09  NaN  NaN                0   \n51006  2008480009       15.00  2008-03-16  NaN  NaN                0   \n52322  2009150801       51.25  2009-03-21  NaN  NaN                0   \n80416  2015320921      314.14  2015-08-23  NaN  NaN                0   \n\n       idcomunidad  idprovincia  idmunicipio             municipio  ...  \\\n62               9            3          999        OTRA PROVINCIA  ...   \n1072            11           13          999        OTRA PROVINCIA  ...   \n1134            11           13          999        OTRA PROVINCIA  ...   \n2714             7           26          999        OTRA PROVINCIA  ...   \n13579           17           37          998              PORTUGAL  ...   \n13908            6           39          999        OTRA PROVINCIA  ...   \n14397            1           48          999        OTRA PROVINCIA  ...   \n14657           17           49          998              PORTUGAL  ...   \n16537           11           19          999        OTRA PROVINCIA  ...   \n17794           16           28          999        OTRA PROVINCIA  ...   \n17950           13           31          999        OTRA PROVINCIA  ...   \n17971           13           31          250  BERA/VERA DE BIDASOA  ...   \n28556            1           48          999        OTRA PROVINCIA  ...   \n36647            6           39          999        OTRA PROVINCIA  ...   \n40673           13           31          250  BERA/VERA DE BIDASOA  ...   \n40681           13           31          999        OTRA PROVINCIA  ...   \n42163            5           33          999        OTRA PROVINCIA  ...   \n45080           13           31          250  BERA/VERA DE BIDASOA  ...   \n45088           13           31          250  BERA/VERA DE BIDASOA  ...   \n46102            5           33          999        OTRA PROVINCIA  ...   \n50636            6           39          999        OTRA PROVINCIA  ...   \n51006            1           48          999        OTRA PROVINCIA  ...   \n52322            3           15          999        OTRA PROVINCIA  ...   \n80416            3           32          998              PORTUGAL  ...   \n\n       causa_supuesta  causa_desc  muertos  heridos  time_ctrl  time_ext  \\\n62                NaN           0      0.0      0.0         40       105   \n1072              1.0          30      0.0      0.0         85       135   \n1134              1.0           0      0.0      0.0        150       480   \n2714              NaN          60      0.0      0.0        330      7440   \n13579             NaN          30      0.0      0.0         90       300   \n13908             1.0           2      0.0      0.0       1620      3105   \n14397             NaN          30      0.0      0.0          0       420   \n14657             1.0           0      1.0      0.0       1985      4805   \n16537             1.0          60      0.0      0.0       2855      3310   \n17794             NaN          70      0.0      0.0        779      2391   \n17950             NaN           0      0.0      0.0         54        62   \n17971             NaN          20      0.0      0.0          0        70   \n28556             NaN          10      0.0      0.0          0       175   \n36647             1.0          21      0.0      0.0        135       150   \n40673             1.0          80      0.0      0.0          0        36   \n40681             NaN          31      0.0      0.0        360      2880   \n42163             NaN           0      0.0      0.0         35        95   \n45080             NaN          30      0.0      0.0        280       370   \n45088             1.0          21      0.0      0.0        118       148   \n46102             NaN           0      0.0      0.0        491       496   \n50636             1.0           2      0.0      0.0       1620      1680   \n51006             1.0           2      0.0      0.0        345       345   \n52322             1.0           1      0.0      0.0       1582      3021   \n80416             1.0           0      0.0      0.0       3050      4483   \n\n       personal  medios    gastos  perdidas  \n62           24       4       NaN     561.0  \n1072         45       8       NaN       NaN  \n1134         21       2       NaN       NaN  \n2714         15       5     222.0     300.0  \n13579        42       3       NaN      78.0  \n13908        21       0    2458.0    2803.0  \n14397        15       0    1111.0     300.0  \n14657        25      11   10057.0  133071.0  \n16537       592      62  124904.0   57036.0  \n17794       193      36       NaN  113489.0  \n17950        23       1       NaN       NaN  \n17971         4       0       NaN    9130.0  \n28556        18       5    4424.0    3914.0  \n36647         2       0       NaN      15.0  \n40673        38       1       NaN   50558.0  \n40681        73      30       NaN  330782.0  \n42163         5       1       NaN       NaN  \n45080        14       2       NaN       NaN  \n45088        11       2       NaN       NaN  \n46102        13       3       NaN       NaN  \n50636         8       0       NaN   46296.0  \n51006        16       1    3242.0       NaN  \n52322       165      23       NaN       NaN  \n80416       141      34       NaN  275065.0  \n\n[24 rows x 21 columns]\n"
     ]
    }
   ],
   "source": [
    "aux = df.loc[df['idmunicipio'] == 999]\n",
    "latMissing = df.loc[np.isnan(df['lat'])]\n",
    "print(aux.shape)\n",
    "print(latMissing.shape)\n",
    "print(latMissing)"
   ]
  },
  {
   "cell_type": "markdown",
   "source": [
    "## Separem target del dataset\n",
    "Volem predir la superfície cremada donat un incendi per tant separem aquesta variable de la resta."
   ],
   "metadata": {
    "collapsed": false,
    "pycharm": {
     "name": "#%% md\n"
    }
   }
  },
  {
   "cell_type": "code",
   "source": [
    "X = df.drop('superficie', axis=1)\n",
    "y = df['superficie']\n",
    "\n",
    "# Comprovem que al target no hi hagin nulls\n",
    "print(y.isnull().values.any())\n"
   ],
   "metadata": {
    "collapsed": false,
    "pycharm": {
     "name": "#%%\n"
    }
   },
   "execution_count": 5,
   "outputs": [
    {
     "output_type": "stream",
     "name": "stdout",
     "text": [
      "False\n"
     ]
    }
   ]
  }
 ],
 "metadata": {
  "kernelspec": {
   "display_name": "Python 3",
   "language": "python",
   "name": "python3"
  },
  "language_info": {
   "codemirror_mode": {
    "name": "ipython",
    "version": 3
   },
   "file_extension": ".py",
   "mimetype": "text/x-python",
   "name": "python",
   "nbconvert_exporter": "python",
   "pygments_lexer": "ipython3",
   "version": "3.8.5-final"
  }
 },
 "nbformat": 4,
 "nbformat_minor": 4
}