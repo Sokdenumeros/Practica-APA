{
 "cells": [
  {
   "cell_type": "markdown",
   "source": [
    "# Practica APA - predicció superfície cremada d'un incendi\n",
    "Sergi Curto Panisello,\n",
    "Joan Melchor Lladó\n",
    "\n",
    "## Imports"
   ],
   "metadata": {
    "collapsed": false
   }
  },
  {
   "cell_type": "code",
   "execution_count": 1,
   "metadata": {},
   "outputs": [],
   "source": [
    "import pandas as pd\n",
    "import numpy as np"
   ]
  },
  {
   "cell_type": "markdown",
   "source": [
    "## Obtenim les dades\n",
    "Procedim a agafar les dades en format csv descarregades de https://datos.civio.es/dataset/todos-los-incendios-forestales/"
   ],
   "metadata": {
    "collapsed": false,
    "pycharm": {
     "name": "#%% md\n"
    }
   }
  },
  {
   "cell_type": "code",
   "execution_count": 2,
   "outputs": [
    {
     "name": "stdout",
     "output_type": "stream",
     "text": [
      "         superficie           lat           lng  latlng_explicit  \\\n",
      "count  82640.000000  82616.000000  82616.000000     82640.000000   \n",
      "mean      19.888085     41.763721     -5.664360         0.741626   \n",
      "std      223.787536      2.019672      4.394031         0.437743   \n",
      "min        1.000000      0.490720  -1000.000000         0.000000   \n",
      "25%        1.500000     40.876544     -7.257298         0.000000   \n",
      "50%        3.000000     42.371123     -6.019478         1.000000   \n",
      "75%        7.150000     43.143145     -4.303078         1.000000   \n",
      "max    28879.100000     87.824157    242.755603         1.000000   \n",
      "\n",
      "        idcomunidad   idprovincia   idmunicipio         causa  causa_supuesta  \\\n",
      "count  82640.000000  82640.000000  82640.000000  82640.000000         46465.0   \n",
      "mean       7.850278     28.411375     77.795946      3.695051             1.0   \n",
      "std        5.419922     11.727155     98.867769      1.032923             0.0   \n",
      "min        1.000000      1.000000      1.000000      1.000000             1.0   \n",
      "25%        3.000000     21.000000     27.000000      4.000000             1.0   \n",
      "50%        5.000000     32.000000     52.000000      4.000000             1.0   \n",
      "75%       14.000000     36.000000     92.000000      4.000000             1.0   \n",
      "max       18.000000     51.000000    999.000000      6.000000             1.0   \n",
      "\n",
      "         causa_desc      muertos      heridos      time_ctrl       time_ext  \\\n",
      "count  82640.000000  2724.000000  3071.000000   82640.000000   82640.000000   \n",
      "mean      12.216917     0.021292     0.197981     236.247302     523.010733   \n",
      "std       24.631048     0.298586     0.716858     901.186810    2560.985781   \n",
      "min        0.000000     0.000000     0.000000       0.000000       0.000000   \n",
      "25%        0.000000     0.000000     0.000000      64.000000     134.000000   \n",
      "50%        2.000000     0.000000     0.000000     118.000000     221.000000   \n",
      "75%       10.000000     0.000000     0.000000     210.000000     415.000000   \n",
      "max       99.000000    11.000000    12.000000  132555.000000  529682.000000   \n",
      "\n",
      "           personal        medios        gastos      perdidas  \n",
      "count  82640.000000  82640.000000  1.162400e+04  3.434900e+04  \n",
      "mean      21.188093      3.143224  7.500955e+03  3.230666e+04  \n",
      "std       48.210975      6.180303  3.939254e+04  4.315912e+05  \n",
      "min        0.000000      0.000000  0.000000e+00 -2.896100e+04  \n",
      "25%        5.000000      1.000000  3.560000e+02  1.020000e+02  \n",
      "50%       11.000000      2.000000  1.107000e+03  1.323000e+03  \n",
      "75%       23.000000      3.000000  3.682750e+03  5.738000e+03  \n",
      "max     3979.000000    310.000000  1.426641e+06  3.064011e+07  \n"
     ]
    }
   ],
   "source": [
    "df = pd.read_csv('fires-all.csv', index_col='id')\n",
    "print(df.describe())"
   ],
   "metadata": {
    "collapsed": false,
    "pycharm": {
     "name": "#%%\n"
    }
   }
  },
  {
   "cell_type": "markdown",
   "source": [
    "## Preprocessing\n",
    "\n",
    "### Tractament de missing values"
   ],
   "metadata": {
    "collapsed": false,
    "pycharm": {
     "name": "#%% md\n"
    }
   }
  },
  {
   "cell_type": "code",
   "execution_count": 3,
   "outputs": [
    {
     "name": "stdout",
     "output_type": "stream",
     "text": [
      "['lat', 'lng', 'causa_supuesta', 'muertos', 'heridos', 'gastos', 'perdidas']\n"
     ]
    }
   ],
   "source": [
    "# Columnes amb missing values, també es pot veure al describe del\n",
    "# dataset a les variables que no tinguin un count de 82640\n",
    "print(df.columns[df.isnull().any()].tolist())"
   ],
   "metadata": {
    "collapsed": false,
    "pycharm": {
     "name": "#%%\n"
    }
   }
  },
  {
   "cell_type": "markdown",
   "source": [
    "#### Arreglar lat i long\n",
    "\n",
    "Per arreglar lat i long ho fem en un altre document \"corregirCoordenades.py\", ja que és un procés més lent.\n",
    "Es dedica a comprovar les coordenades de cada instància per veure si es corresponen a un diccionari generat\n",
    "anteriorment amb el fitxer \"obtenirCoordenades.py\". Hi ha una explicació més extensa a la documentació."
   ],
   "metadata": {
    "collapsed": false,
    "pycharm": {
     "name": "#%% md\n"
    }
   }
  },
  {
   "cell_type": "code",
   "execution_count": 4,
   "outputs": [
    {
     "name": "stdout",
     "output_type": "stream",
     "text": [
      "['causa_supuesta', 'muertos', 'heridos', 'gastos', 'perdidas']\n"
     ]
    }
   ],
   "source": [
    "df = pd.read_csv('coordsCorregides.csv', index_col='id')\n",
    "# Comprovem que ja no queden nulls a coordenades\n",
    "print(df.columns[df.isnull().any()].tolist())"
   ],
   "metadata": {
    "collapsed": false,
    "pycharm": {
     "name": "#%%\n"
    }
   }
  },
  {
   "cell_type": "markdown",
   "source": [
    "#### Arreglar muertos, heridos y causa_supuesta"
   ],
   "metadata": {
    "collapsed": false
   }
  },
  {
   "cell_type": "code",
   "execution_count": 5,
   "outputs": [],
   "source": [
    "# Comencem per emplenar els missing values de muertos i heridos ja que\n",
    "# si no hi han dades suposarem que són 0.\n",
    "df['muertos'].fillna(0, inplace=True)\n",
    "df['heridos'].fillna(0, inplace=True)\n",
    "# Sobre la \"causa supuesta\" és normal que hi hagin instàncies sense valor ja que és o 1 o nan per tant els posem a 0\n",
    "df['causa_supuesta'].fillna(0, inplace=True)\n"
   ],
   "metadata": {
    "collapsed": false,
    "pycharm": {
     "name": "#%%\n"
    }
   }
  },
  {
   "cell_type": "markdown",
   "source": [
    "#### Comprovar provincies i comunitats"
   ],
   "metadata": {
    "collapsed": false,
    "pycharm": {
     "name": "#%% md\n"
    }
   }
  },
  {
   "cell_type": "code",
   "execution_count": 6,
   "outputs": [
    {
     "name": "stdout",
     "output_type": "stream",
     "text": [
      "Municipio a la mateixa provincia Empty DataFrame\n",
      "Columns: [municipio]\n",
      "Index: []\n",
      "Provincia a la mateixa comunitat Empty DataFrame\n",
      "Columns: [idprovincia]\n",
      "Index: []\n"
     ]
    }
   ],
   "source": [
    "import pandasql as ps\n",
    "\n",
    "q1 = \"SELECT municipio  FROM df GROUP BY municipio HAVING COUNT(DISTINCT idprovincia) > 1;\"\n",
    "q2 = \"SELECT idprovincia FROM df GROUP BY idprovincia HAVING COUNT(DISTINCT idcomunidad) > 1;\"\n",
    "\n",
    "print(\"Municipio a la mateixa provincia\", ps.sqldf(q1))\n",
    "print(\"Provincia a la mateixa comunitat\", ps.sqldf(q2))"
   ],
   "metadata": {
    "collapsed": false,
    "pycharm": {
     "name": "#%%\n"
    }
   }
  },
  {
   "cell_type": "markdown",
   "source": [
    "#### Arreglar gastos y perdidas\n",
    "\n",
    "Per a fer aquesta part hem de netejar una mica més el dataset, la columna de \"idmunicipio\" és incorrecte, ja que\n",
    "diferents municipis comparteixen el mateix id tot i està a cada punta del territori. També eliminem la columna municipio\n",
    "ja que amb la latitud i longitud ja sabem on està localitzat l'incendi.\n",
    "\n",
    "Primer separem target del dataset, volem predir la superfície cremada donat un incendi per\n",
    "tant separem aquesta variable de la resta.\n",
    "\n",
    "https://medium.com/@kyawsawhtoon/a-guide-to-knn-imputation-95e2dc496e"
   ],
   "metadata": {
    "collapsed": false
   }
  },
  {
   "cell_type": "code",
   "execution_count": 7,
   "outputs": [],
   "source": [
    "# Arreglar valors massa petits posant-lo a NaN\n",
    "df.at[df.loc[((df[\"gastos\"] < 25) & (df[\"gastos\"] != 0))].index, 'gastos'] = np.NaN\n",
    "df.at[df.loc[((df[\"perdidas\"] < 25) & (df[\"perdidas\"] != 0))].index, 'perdidas'] = np.NaN\n",
    "# Valors massa extranys\n",
    "df.at[df.loc[(df[\"perdidas\"] == 999999)].index, 'perdidas'] = np.NaN\n",
    "df.at[df.loc[(df[\"gastos\"] == 999999)].index, 'gastos'] = np.NaN\n",
    "\n",
    "# Convertir fecha en un numero en comptes de string\n",
    "df[\"fecha\"] = df[\"fecha\"].apply(lambda f: f.replace('-', ''))\n",
    "# Esborrem columnes innecessàries\n",
    "df.drop(['idmunicipio', 'municipio', 'idcomunidad'], axis=1, inplace=True)"
   ],
   "metadata": {
    "collapsed": false,
    "pycharm": {
     "name": "#%%\n"
    }
   }
  },
  {
   "cell_type": "code",
   "execution_count": 8,
   "outputs": [],
   "source": [
    "# Corregir valors de time ext i time control ja que no podem tenir que s'ha tardat més en controlar\n",
    "# que en extendre. També treiem els que tenen valor de 0 ja que sino, no podrem aplicar la següent formula\n",
    "df.at[df.loc[(df[\"time_ctrl\"] > df[\"time_ext\"])].index, ['time_ctrl', 'time_ext']] = np.NaN\n",
    "df.at[df.loc[(df[\"time_ctrl\"] == 0) | (df[\"time_ext\"] == 0)].index, ['time_ctrl', 'time_ext']] = np.NaN\n",
    "# Comprovem que el temps de control i d'extensió és adequat per les hectàrees de l'incendi\n",
    "df.at[df.loc[(df[\"time_ctrl\"] / df[\"superficie\"] < 20)].index, ['time_ctrl', 'time_ext']] = np.NaN\n",
    "\n",
    "df = pd.get_dummies(data=df, columns=[\"causa\", \"causa_desc\", \"idprovincia\"])\n"
   ],
   "metadata": {
    "collapsed": false,
    "pycharm": {
     "name": "#%%\n"
    }
   }
  },
  {
   "cell_type": "code",
   "execution_count": 9,
   "outputs": [
    {
     "name": "stdout",
     "output_type": "stream",
     "text": [
      "['time_ctrl', 'time_ext', 'gastos', 'perdidas']\n",
      "--- 1735.4437606334686 seconds ---\n",
      "[]\n"
     ]
    }
   ],
   "source": [
    "import time\n",
    "start = time.time()\n",
    "print(df.columns[df.isnull().any()].tolist())\n",
    "\n",
    "from sklearn.preprocessing import MinMaxScaler\n",
    "scaler = MinMaxScaler()\n",
    "df = pd.DataFrame(scaler.fit_transform(df), columns=df.columns)\n",
    "\n",
    "# Separem el target\n",
    "# X = df.drop(['superficie', 'idmunicipio', 'municipio'], axis=1)\n",
    "# y = df['superficie']\n",
    "\n",
    "#\n",
    "# # # Apliquem KNN per tal d'emplenar els missing values\n",
    "from sklearn.impute import KNNImputer\n",
    "imputer = KNNImputer(n_neighbors=1,copy=False)\n",
    "pd.DataFrame(imputer.fit_transform(df), columns=df.columns)\n",
    "\n",
    "print(\"--- %s seconds ---\" % (time.time() - start))\n",
    "\n",
    "df.describe()\n",
    "print(df.columns[df.isnull().any()].tolist())"
   ],
   "metadata": {
    "collapsed": false,
    "pycharm": {
     "name": "#%%\n"
    }
   }
  },
  {
   "cell_type": "code",
   "execution_count": 10,
   "outputs": [
    {
     "name": "stdout",
     "output_type": "stream",
     "text": [
      "   superficie     fecha       lat       lng  latlng_explicit  causa_supuesta  \\\n",
      "0    0.000093  0.001538  0.949757  0.707099              1.0             0.0   \n",
      "1    0.000017  0.001580  0.924687  0.692873              1.0             1.0   \n",
      "2    0.000017  0.002232  0.921030  0.695812              0.0             0.0   \n",
      "3    0.000225  0.003004  0.949247  0.699897              1.0             0.0   \n",
      "4    0.000001  0.004386  0.958276  0.673491              0.0             0.0   \n",
      "\n",
      "   muertos  heridos  time_ctrl  time_ext  ...  idprovincia_42  idprovincia_43  \\\n",
      "0      0.0      0.0   0.000981  0.000302  ...             0.0             0.0   \n",
      "1      0.0      0.0   0.001924  0.000510  ...             0.0             0.0   \n",
      "2      0.0      0.0   0.000868  0.000274  ...             0.0             0.0   \n",
      "3      0.0      0.0   0.002377  0.000736  ...             0.0             0.0   \n",
      "4      0.0      0.0   0.000189  0.000104  ...             0.0             0.0   \n",
      "\n",
      "   idprovincia_44  idprovincia_45  idprovincia_46  idprovincia_47  \\\n",
      "0             0.0             0.0             0.0             0.0   \n",
      "1             0.0             0.0             0.0             0.0   \n",
      "2             0.0             0.0             0.0             0.0   \n",
      "3             0.0             0.0             0.0             0.0   \n",
      "4             0.0             0.0             0.0             0.0   \n",
      "\n",
      "   idprovincia_48  idprovincia_49  idprovincia_50  idprovincia_51  \n",
      "0             0.0             0.0             0.0             0.0  \n",
      "1             0.0             0.0             0.0             0.0  \n",
      "2             0.0             0.0             0.0             0.0  \n",
      "3             0.0             0.0             0.0             0.0  \n",
      "4             0.0             0.0             0.0             0.0  \n",
      "\n",
      "[5 rows x 118 columns]\n",
      "         superficie         fecha           lat           lng  \\\n",
      "count  82527.000000  82527.000000  82527.000000  82527.000000   \n",
      "mean       0.000626      0.426784      0.872801      0.561137   \n",
      "std        0.007171      0.300140      0.120021      0.110362   \n",
      "min        0.000000      0.000000      0.000000      0.000000   \n",
      "25%        0.000017      0.147503      0.814032      0.484766   \n",
      "50%        0.000069      0.358686      0.911635      0.542965   \n",
      "75%        0.000211      0.710038      0.960546      0.621662   \n",
      "max        1.000000      1.000000      1.000000      1.000000   \n",
      "\n",
      "       latlng_explicit  causa_supuesta       muertos       heridos  \\\n",
      "count     82527.000000    82527.000000  82527.000000  82527.000000   \n",
      "mean          0.640808        0.562410      0.000063      0.000611   \n",
      "std           0.479766        0.496093      0.004933      0.011927   \n",
      "min           0.000000        0.000000      0.000000      0.000000   \n",
      "25%           0.000000        0.000000      0.000000      0.000000   \n",
      "50%           1.000000        1.000000      0.000000      0.000000   \n",
      "75%           1.000000        1.000000      0.000000      0.000000   \n",
      "max           1.000000        1.000000      1.000000      1.000000   \n",
      "\n",
      "          time_ctrl      time_ext  ...  idprovincia_42  idprovincia_43  \\\n",
      "count  82527.000000  82527.000000  ...    82527.000000    82527.000000   \n",
      "mean       0.001707      0.000818  ...        0.002702        0.003926   \n",
      "std        0.007262      0.004503  ...        0.051912        0.062535   \n",
      "min        0.000000      0.000000  ...        0.000000        0.000000   \n",
      "25%        0.000475      0.000217  ...        0.000000        0.000000   \n",
      "50%        0.000830      0.000359  ...        0.000000        0.000000   \n",
      "75%        0.001501      0.000670  ...        0.000000        0.000000   \n",
      "max        1.000000      1.000000  ...        1.000000        1.000000   \n",
      "\n",
      "       idprovincia_44  idprovincia_45  idprovincia_46  idprovincia_47  \\\n",
      "count    82527.000000    82527.000000    82527.000000    82527.000000   \n",
      "mean         0.002957        0.022356        0.006895        0.003938   \n",
      "std          0.054295        0.147840        0.082748        0.062631   \n",
      "min          0.000000        0.000000        0.000000        0.000000   \n",
      "25%          0.000000        0.000000        0.000000        0.000000   \n",
      "50%          0.000000        0.000000        0.000000        0.000000   \n",
      "75%          0.000000        0.000000        0.000000        0.000000   \n",
      "max          1.000000        1.000000        1.000000        1.000000   \n",
      "\n",
      "       idprovincia_48  idprovincia_49  idprovincia_50  idprovincia_51  \n",
      "count    82527.000000    82527.000000    82527.000000    82527.000000  \n",
      "mean         0.005937        0.044495        0.008724        0.000097  \n",
      "std          0.076826        0.206192        0.092997        0.009845  \n",
      "min          0.000000        0.000000        0.000000        0.000000  \n",
      "25%          0.000000        0.000000        0.000000        0.000000  \n",
      "50%          0.000000        0.000000        0.000000        0.000000  \n",
      "75%          0.000000        0.000000        0.000000        0.000000  \n",
      "max          1.000000        1.000000        1.000000        1.000000  \n",
      "\n",
      "[8 rows x 118 columns]\n"
     ]
    }
   ],
   "source": [
    "df.to_csv(\"noNaNDataFrame.csv\")\n",
    "print(df.head())\n",
    "print(df.describe())\n",
    "\n",
    "\n"
   ],
   "metadata": {
    "collapsed": false,
    "pycharm": {
     "name": "#%%\n"
    }
   }
  }
 ],
 "metadata": {
  "kernelspec": {
   "display_name": "Python 3",
   "language": "python",
   "name": "python3"
  },
  "language_info": {
   "codemirror_mode": {
    "name": "ipython",
    "version": 3
   },
   "file_extension": ".py",
   "mimetype": "text/x-python",
   "name": "python",
   "nbconvert_exporter": "python",
   "pygments_lexer": "ipython3",
   "version": "3.8.5-final"
  }
 },
 "nbformat": 4,
 "nbformat_minor": 4
}