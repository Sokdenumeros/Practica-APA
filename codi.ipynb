{
 "cells": [
  {
   "cell_type": "markdown",
   "source": [
    "# Practica APA - predicció superfície cremada d'un incendi\n",
    "Sergi Curto Panisello,\n",
    "Joan Melchor Lladó\n",
    "\n",
    "## Imports"
   ],
   "metadata": {
    "collapsed": false
   }
  },
  {
   "cell_type": "code",
   "execution_count": 1,
   "metadata": {},
   "outputs": [],
   "source": [
    "import pandas as pd\n",
    "import numpy as np"
   ]
  },
  {
   "cell_type": "markdown",
   "source": [
    "## Obtenim les dades\n",
    "Procedim a agafar les dades en format csv descarregades de https://datos.civio.es/dataset/todos-los-incendios-forestales/"
   ],
   "metadata": {
    "collapsed": false,
    "pycharm": {
     "name": "#%% md\n"
    }
   }
  },
  {
   "cell_type": "code",
   "execution_count": 2,
   "outputs": [
    {
     "name": "stdout",
     "output_type": "stream",
     "text": [
      "                 id    superficie           lat           lng  \\\n",
      "count  8.264000e+04  82640.000000  82616.000000  82616.000000   \n",
      "mean   2.007259e+09     19.888085     41.763721     -5.664360   \n",
      "std    4.247106e+06    223.787536      2.019672      4.394031   \n",
      "min    2.001010e+09      1.000000      0.490720  -1000.000000   \n",
      "25%    2.003390e+09      1.500000     40.876544     -7.257298   \n",
      "50%    2.006330e+09      3.000000     42.371123     -6.019478   \n",
      "75%    2.011150e+09      7.150000     43.143145     -4.303078   \n",
      "max    2.015510e+09  28879.100000     87.824157    242.755603   \n",
      "\n",
      "       latlng_explicit   idcomunidad   idprovincia   idmunicipio  \\\n",
      "count     82640.000000  82640.000000  82640.000000  82640.000000   \n",
      "mean          0.741626      7.850278     28.411375     77.795946   \n",
      "std           0.437743      5.419922     11.727155     98.867769   \n",
      "min           0.000000      1.000000      1.000000      1.000000   \n",
      "25%           0.000000      3.000000     21.000000     27.000000   \n",
      "50%           1.000000      5.000000     32.000000     52.000000   \n",
      "75%           1.000000     14.000000     36.000000     92.000000   \n",
      "max           1.000000     18.000000     51.000000    999.000000   \n",
      "\n",
      "              causa  causa_supuesta    causa_desc      muertos      heridos  \\\n",
      "count  82640.000000         46465.0  82640.000000  2724.000000  3071.000000   \n",
      "mean       3.695051             1.0     12.216917     0.021292     0.197981   \n",
      "std        1.032923             0.0     24.631048     0.298586     0.716858   \n",
      "min        1.000000             1.0      0.000000     0.000000     0.000000   \n",
      "25%        4.000000             1.0      0.000000     0.000000     0.000000   \n",
      "50%        4.000000             1.0      2.000000     0.000000     0.000000   \n",
      "75%        4.000000             1.0     10.000000     0.000000     0.000000   \n",
      "max        6.000000             1.0     99.000000    11.000000    12.000000   \n",
      "\n",
      "           time_ctrl       time_ext      personal        medios        gastos  \\\n",
      "count   82640.000000   82640.000000  82640.000000  82640.000000  1.162400e+04   \n",
      "mean      236.247302     523.010733     21.188093      3.143224  7.500955e+03   \n",
      "std       901.186810    2560.985781     48.210975      6.180303  3.939254e+04   \n",
      "min         0.000000       0.000000      0.000000      0.000000  0.000000e+00   \n",
      "25%        64.000000     134.000000      5.000000      1.000000  3.560000e+02   \n",
      "50%       118.000000     221.000000     11.000000      2.000000  1.107000e+03   \n",
      "75%       210.000000     415.000000     23.000000      3.000000  3.682750e+03   \n",
      "max    132555.000000  529682.000000   3979.000000    310.000000  1.426641e+06   \n",
      "\n",
      "           perdidas  \n",
      "count  3.434900e+04  \n",
      "mean   3.230666e+04  \n",
      "std    4.315912e+05  \n",
      "min   -2.896100e+04  \n",
      "25%    1.020000e+02  \n",
      "50%    1.323000e+03  \n",
      "75%    5.738000e+03  \n",
      "max    3.064011e+07  \n"
     ]
    }
   ],
   "source": [
    "df = pd.read_csv('fires-all.csv')\n",
    "print(df.describe())"
   ],
   "metadata": {
    "collapsed": false,
    "pycharm": {
     "name": "#%%\n"
    }
   }
  },
  {
   "cell_type": "markdown",
   "source": [
    "## Preprocessing\n",
    "\n",
    "### Tractament de missing values"
   ],
   "metadata": {
    "collapsed": false,
    "pycharm": {
     "name": "#%% md\n"
    }
   }
  },
  {
   "cell_type": "code",
   "execution_count": 3,
   "outputs": [
    {
     "name": "stdout",
     "output_type": "stream",
     "text": [
      "['lat', 'lng', 'causa_supuesta', 'muertos', 'heridos', 'gastos', 'perdidas']\n"
     ]
    }
   ],
   "source": [
    "# Columnes amb missing values, també es pot veure al describe del\n",
    "# dataset a les variables que no tinguin un count de 82640\n",
    "print(df.columns[df.isnull().any()].tolist())"
   ],
   "metadata": {
    "collapsed": false,
    "pycharm": {
     "name": "#%%\n"
    }
   }
  },
  {
   "cell_type": "markdown",
   "source": [
    "#### Arreglar lat i long\n",
    "\n",
    "Per arreglar lat i long ho fem en un altre document \"corregirCoordenades.py\", ja que és un procés més lent.\n",
    "Es dedica a comprovar les coordenades de cada instància per veure si es corresponen a un diccionari generat\n",
    "anteriorment amb el fitxer \"obtenirCoordenades.py\". Hi ha una explicació més extensa a la documentació."
   ],
   "metadata": {
    "collapsed": false,
    "pycharm": {
     "name": "#%% md\n"
    }
   }
  },
  {
   "cell_type": "code",
   "execution_count": 4,
   "outputs": [
    {
     "name": "stdout",
     "output_type": "stream",
     "text": [
      "['causa_supuesta', 'muertos', 'heridos', 'gastos', 'perdidas']\n"
     ]
    }
   ],
   "source": [
    "df = pd.read_csv('coordsCorregides.csv')\n",
    "# Comprovem que ja no queden nulls a coordenades\n",
    "print(df.columns[df.isnull().any()].tolist())"
   ],
   "metadata": {
    "collapsed": false,
    "pycharm": {
     "name": "#%%\n"
    }
   }
  },
  {
   "cell_type": "markdown",
   "source": [
    "#### Arreglar muertos, heridos y causa_supuesta"
   ],
   "metadata": {
    "collapsed": false
   }
  },
  {
   "cell_type": "code",
   "execution_count": 5,
   "outputs": [],
   "source": [
    "# Comencem per emplenar els missing values de muertos i heridos ja que\n",
    "# si no hi han dades suposarem que són 0.\n",
    "df['muertos'].fillna(0, inplace=True)\n",
    "df['heridos'].fillna(0, inplace=True)\n",
    "# Sobre la \"causa supuesta\" és normal que hi hagin instàncies sense valor ja que és o 1 o nan per tant els posem a 0\n",
    "df['causa_supuesta'].fillna(0, inplace=True)"
   ],
   "metadata": {
    "collapsed": false,
    "pycharm": {
     "name": "#%%\n"
    }
   }
  },
  {
   "cell_type": "markdown",
   "source": [
    "#### Arreglar gastos y perdidas\n",
    "\n",
    "Per a fer aquesta part hem de netejar una mica més el dataset, la columna de \"idmunicipio\" és incorrecte, ja que\n",
    "diferents municipis comparteixen el mateix id tot i està a cada punta del territori. També eliminem la columna municipio\n",
    "ja que amb la latitud i longitud ja sabem on està localitzat l'incendi.\n",
    "\n",
    "Primer separem target del dataset, volem predir la superfície cremada donat un incendi per\n",
    "tant separem aquesta variable de la resta.\n",
    "\n",
    "https://medium.com/@kyawsawhtoon/a-guide-to-knn-imputation-95e2dc496e"
   ],
   "metadata": {
    "collapsed": false
   }
  },
  {
   "cell_type": "code",
   "execution_count": 6,
   "outputs": [
    {
     "name": "stdout",
     "output_type": "stream",
     "text": [
      "           id  superficie     fecha        lat       lng  latlng_explicit  \\\n",
      "0  2001010001        3.70  20010318  42.954656 -2.325719                1   \n",
      "1  2001010004        1.50  20010324  42.552183 -2.640673                1   \n",
      "2  2001010005        1.50  20010416  42.493480 -2.575597                0   \n",
      "3  2001010008        7.50  20010525  42.946479 -2.485163                1   \n",
      "4  2001010017        1.04  20010720  43.091427 -3.069773                0   \n",
      "\n",
      "   idcomunidad  idprovincia  causa  causa_supuesta  causa_desc  muertos  \\\n",
      "0            1            1      4             0.0           2      0.0   \n",
      "1            1            1      2             1.0          10      0.0   \n",
      "2            1            1      2             0.0          10      0.0   \n",
      "3            1            1      4             0.0           2      0.0   \n",
      "4            1            1      5             0.0           0      0.0   \n",
      "\n",
      "   heridos  time_ctrl  time_ext  personal  medios  gastos  perdidas  \n",
      "0      0.0        150       180        10       2   661.0     553.0  \n",
      "1      0.0        275       290         4       1   661.0     451.0  \n",
      "2      0.0        135       165         4       1   312.0     902.0  \n",
      "3      0.0        335       410         6       1  1082.0   15338.0  \n",
      "4      0.0         45        75        11       2   270.0    2866.0  \n",
      "[]\n"
     ]
    }
   ],
   "source": [
    "# Arreglar valors massa petits posant-lo a NaN\n",
    "df.at[df.loc[df[\"gastos\"] < 200].index, 'gastos'] = np.NaN\n",
    "df.at[df.loc[df[\"perdidas\"] < 200].index, 'perdidas'] = np.NaN\n",
    "df[\"fecha\"] = df[\"fecha\"].apply(lambda f: f.replace('-', ''))\n",
    "df.drop(['idmunicipio', 'municipio'], axis=1, inplace=True)\n",
    "print(df.head())\n",
    "\n",
    "from sklearn.preprocessing import MinMaxScaler\n",
    "scaler = MinMaxScaler()\n",
    "df = pd.DataFrame(scaler.fit_transform(df), columns=df.columns)\n",
    "\n",
    "# Separem el target\n",
    "# X = df.drop(['superficie', 'idmunicipio', 'municipio'], axis=1)\n",
    "# y = df['superficie']\n",
    "#\n",
    "\n",
    "\n",
    "# # Apliquem KNN per tal d'emplenar els missing values\n",
    "from sklearn.impute import KNNImputer\n",
    "imputer = KNNImputer()\n",
    "df = pd.DataFrame(imputer.fit_transform(df), columns=df.columns)\n",
    "\n",
    "# Fem knn\n",
    "# df['gastos'].fillna(0, inplace=True)\n",
    "# df['perdidas'].fillna(0, inplace=True)\n",
    "\n",
    "# df.describe()\n",
    "\n",
    "print(df.columns[df.isnull().any()].tolist())"
   ],
   "metadata": {
    "collapsed": false,
    "pycharm": {
     "name": "#%%\n"
    }
   }
  },
  {
   "cell_type": "code",
   "execution_count": 9,
   "outputs": [
    {
     "name": "stdout",
     "output_type": "stream",
     "text": [
      "             id  superficie     fecha       lat       lng  latlng_explicit  \\\n",
      "0  0.000000e+00    0.000093  0.001538  0.949757  0.707099              1.0   \n",
      "1  2.068965e-07    0.000017  0.001580  0.924687  0.692873              1.0   \n",
      "2  2.758621e-07    0.000017  0.002232  0.921030  0.695812              0.0   \n",
      "3  4.827586e-07    0.000225  0.003004  0.949247  0.699897              1.0   \n",
      "4  1.103448e-06    0.000001  0.004386  0.958276  0.673491              0.0   \n",
      "\n",
      "   idcomunidad  idprovincia  causa  causa_supuesta  causa_desc  muertos  \\\n",
      "0          0.0          0.0    0.6             0.0    0.020202      0.0   \n",
      "1          0.0          0.0    0.2             1.0    0.101010      0.0   \n",
      "2          0.0          0.0    0.2             0.0    0.101010      0.0   \n",
      "3          0.0          0.0    0.6             0.0    0.020202      0.0   \n",
      "4          0.0          0.0    0.8             0.0    0.000000      0.0   \n",
      "\n",
      "   heridos  time_ctrl  time_ext  personal    medios    gastos  perdidas  \n",
      "0      0.0   0.001132  0.000340  0.002513  0.006452  0.000323  0.000012  \n",
      "1      0.0   0.002075  0.000547  0.001005  0.003226  0.000323  0.000008  \n",
      "2      0.0   0.001018  0.000312  0.001005  0.003226  0.000079  0.000023  \n",
      "3      0.0   0.002527  0.000774  0.001508  0.003226  0.000618  0.000494  \n",
      "4      0.0   0.000339  0.000142  0.002765  0.006452  0.000049  0.000087  \n",
      "                 id    superficie         fecha           lat           lng  \\\n",
      "count  82527.000000  82527.000000  82527.000000  82527.000000  82527.000000   \n",
      "mean       0.430865      0.000626      0.426784      0.872801      0.561137   \n",
      "std        0.292885      0.007171      0.300140      0.120021      0.110362   \n",
      "min        0.000000      0.000000      0.000000      0.000000      0.000000   \n",
      "25%        0.164148      0.000017      0.147503      0.814032      0.484766   \n",
      "50%        0.366899      0.000069      0.358686      0.911635      0.542965   \n",
      "75%        0.699328      0.000211      0.710038      0.960546      0.621662   \n",
      "max        1.000000      1.000000      1.000000      1.000000      1.000000   \n",
      "\n",
      "       latlng_explicit   idcomunidad   idprovincia         causa  \\\n",
      "count     82527.000000  82527.000000  82527.000000  82527.000000   \n",
      "mean          0.640808      0.402954      0.548243      0.539106   \n",
      "std           0.479766      0.318800      0.234476      0.206548   \n",
      "min           0.000000      0.000000      0.000000      0.000000   \n",
      "25%           0.000000      0.117647      0.400000      0.600000   \n",
      "50%           1.000000      0.235294      0.620000      0.600000   \n",
      "75%           1.000000      0.764706      0.700000      0.600000   \n",
      "max           1.000000      1.000000      1.000000      1.000000   \n",
      "\n",
      "       causa_supuesta    causa_desc       muertos       heridos     time_ctrl  \\\n",
      "count    82527.000000  82527.000000  82527.000000  82527.000000  82527.000000   \n",
      "mean         0.562410      0.123292      0.000063      0.000611      0.001773   \n",
      "std          0.496093      0.248700      0.004933      0.011927      0.006781   \n",
      "min          0.000000      0.000000      0.000000      0.000000      0.000000   \n",
      "25%          0.000000      0.000000      0.000000      0.000000      0.000483   \n",
      "50%          1.000000      0.020202      0.000000      0.000000      0.000883   \n",
      "75%          1.000000      0.101010      0.000000      0.000000      0.001584   \n",
      "max          1.000000      1.000000      1.000000      1.000000      1.000000   \n",
      "\n",
      "           time_ext      personal        medios        gastos      perdidas  \n",
      "count  82527.000000  82527.000000  82527.000000  82527.000000  82527.000000  \n",
      "mean       0.000982      0.005285      0.010071      0.005241      0.000866  \n",
      "std        0.004827      0.011689      0.019482      0.018936      0.009093  \n",
      "min        0.000000      0.000000      0.000000      0.000000      0.000000  \n",
      "25%        0.000253      0.001257      0.003226      0.000595      0.000064  \n",
      "50%        0.000417      0.002765      0.006452      0.001576      0.000163  \n",
      "75%        0.000782      0.005780      0.009677      0.004154      0.000417  \n",
      "max        1.000000      1.000000      1.000000      1.000000      1.000000  \n"
     ]
    }
   ],
   "source": [
    "print(df.head())\n",
    "print(df.describe())\n",
    "\n",
    "df.to_csv(\"noNaNOriginalLatLng.csv\")\n",
    "\n"
   ],
   "metadata": {
    "collapsed": false,
    "pycharm": {
     "name": "#%%\n"
    }
   }
  }
 ],
 "metadata": {
  "kernelspec": {
   "display_name": "Python 3",
   "language": "python",
   "name": "python3"
  },
  "language_info": {
   "codemirror_mode": {
    "name": "ipython",
    "version": 3
   },
   "file_extension": ".py",
   "mimetype": "text/x-python",
   "name": "python",
   "nbconvert_exporter": "python",
   "pygments_lexer": "ipython3",
   "version": "3.8.5-final"
  }
 },
 "nbformat": 4,
 "nbformat_minor": 4
}