{
 "cells": [
  {
   "cell_type": "markdown",
   "source": [
    "# Practica APA - predicció superfície cremada d'un incendi\n",
    "Sergi Curto Panisello,\n",
    "Joan Melchor Lladó\n",
    "\n",
    "## Imports"
   ],
   "metadata": {
    "collapsed": false
   }
  },
  {
   "cell_type": "code",
   "execution_count": 39,
   "metadata": {},
   "outputs": [],
   "source": [
    "import pandas as pd\n",
    "import numpy as np"
   ]
  },
  {
   "cell_type": "markdown",
   "source": [
    "## Obtenim les dades\n",
    "Procedim a agafar les dades en format csv descarregades de https://datos.civio.es/dataset/todos-los-incendios-forestales/"
   ],
   "metadata": {
    "collapsed": false,
    "pycharm": {
     "name": "#%% md\n"
    }
   }
  },
  {
   "cell_type": "code",
   "execution_count": 40,
   "outputs": [
    {
     "name": "stdout",
     "output_type": "stream",
     "text": [
      "                 id    superficie           lat           lng  \\\n",
      "count  8.264000e+04  82640.000000  82616.000000  82616.000000   \n",
      "mean   2.007259e+09     19.888085     41.763721     -5.664360   \n",
      "std    4.247106e+06    223.787536      2.019672      4.394031   \n",
      "min    2.001010e+09      1.000000      0.490720  -1000.000000   \n",
      "25%    2.003390e+09      1.500000     40.876544     -7.257298   \n",
      "50%    2.006330e+09      3.000000     42.371123     -6.019478   \n",
      "75%    2.011150e+09      7.150000     43.143145     -4.303078   \n",
      "max    2.015510e+09  28879.100000     87.824157    242.755603   \n",
      "\n",
      "       latlng_explicit   idcomunidad   idprovincia   idmunicipio  \\\n",
      "count     82640.000000  82640.000000  82640.000000  82640.000000   \n",
      "mean          0.741626      7.850278     28.411375     77.795946   \n",
      "std           0.437743      5.419922     11.727155     98.867769   \n",
      "min           0.000000      1.000000      1.000000      1.000000   \n",
      "25%           0.000000      3.000000     21.000000     27.000000   \n",
      "50%           1.000000      5.000000     32.000000     52.000000   \n",
      "75%           1.000000     14.000000     36.000000     92.000000   \n",
      "max           1.000000     18.000000     51.000000    999.000000   \n",
      "\n",
      "              causa  causa_supuesta    causa_desc      muertos      heridos  \\\n",
      "count  82640.000000         46465.0  82640.000000  2724.000000  3071.000000   \n",
      "mean       3.695051             1.0     12.216917     0.021292     0.197981   \n",
      "std        1.032923             0.0     24.631048     0.298586     0.716858   \n",
      "min        1.000000             1.0      0.000000     0.000000     0.000000   \n",
      "25%        4.000000             1.0      0.000000     0.000000     0.000000   \n",
      "50%        4.000000             1.0      2.000000     0.000000     0.000000   \n",
      "75%        4.000000             1.0     10.000000     0.000000     0.000000   \n",
      "max        6.000000             1.0     99.000000    11.000000    12.000000   \n",
      "\n",
      "           time_ctrl       time_ext      personal        medios        gastos  \\\n",
      "count   82640.000000   82640.000000  82640.000000  82640.000000  1.162400e+04   \n",
      "mean      236.247302     523.010733     21.188093      3.143224  7.500955e+03   \n",
      "std       901.186810    2560.985781     48.210975      6.180303  3.939254e+04   \n",
      "min         0.000000       0.000000      0.000000      0.000000  0.000000e+00   \n",
      "25%        64.000000     134.000000      5.000000      1.000000  3.560000e+02   \n",
      "50%       118.000000     221.000000     11.000000      2.000000  1.107000e+03   \n",
      "75%       210.000000     415.000000     23.000000      3.000000  3.682750e+03   \n",
      "max    132555.000000  529682.000000   3979.000000    310.000000  1.426641e+06   \n",
      "\n",
      "           perdidas  \n",
      "count  3.434900e+04  \n",
      "mean   3.230666e+04  \n",
      "std    4.315912e+05  \n",
      "min   -2.896100e+04  \n",
      "25%    1.020000e+02  \n",
      "50%    1.323000e+03  \n",
      "75%    5.738000e+03  \n",
      "max    3.064011e+07  \n"
     ]
    }
   ],
   "source": [
    "df = pd.read_csv('fires-all.csv')\n",
    "print(df.describe())"
   ],
   "metadata": {
    "collapsed": false,
    "pycharm": {
     "name": "#%%\n"
    }
   }
  },
  {
   "cell_type": "markdown",
   "source": [
    "## Preprocessing\n",
    "\n",
    "### Tractament de missing values"
   ],
   "metadata": {
    "collapsed": false,
    "pycharm": {
     "name": "#%% md\n"
    }
   }
  },
  {
   "cell_type": "code",
   "execution_count": 41,
   "outputs": [
    {
     "name": "stdout",
     "output_type": "stream",
     "text": [
      "['lat', 'lng', 'causa_supuesta', 'muertos', 'heridos', 'gastos', 'perdidas']\n"
     ]
    }
   ],
   "source": [
    "# Columnes amb missing values, també es pot veure al describe del\n",
    "# dataset a les variables que no tinguin un count de 82640\n",
    "print(df.columns[df.isnull().any()].tolist())"
   ],
   "metadata": {
    "collapsed": false,
    "pycharm": {
     "name": "#%%\n"
    }
   }
  },
  {
   "cell_type": "markdown",
   "source": [
    "#### Arreglar lat i long"
   ],
   "metadata": {
    "collapsed": false,
    "pycharm": {
     "name": "#%% md\n",
     "is_executing": true
    }
   }
  },
  {
   "cell_type": "code",
   "execution_count": 46,
   "outputs": [
    {
     "name": "stdout",
     "output_type": "stream",
     "text": [
      "[]\n"
     ]
    }
   ],
   "source": [
    "import corregirCoordenades\n",
    "# idmunicipio 999, i 998 ens els carreguem ja que són incendis originats fora d'Espanya\n",
    "df.drop(df.loc[df[\"idmunicipio\"] == 999].index, inplace=True)\n",
    "df.drop(df.loc[df[\"idmunicipio\"] == 998].index, inplace=True)\n",
    "print(df.columns[df.isnull().any()].tolist())\n",
    "\n",
    "df = corregirCoordenades.correctCoords(df)"
   ],
   "metadata": {
    "collapsed": false,
    "pycharm": {
     "name": "#%%\n"
    }
   }
  },
  {
   "cell_type": "code",
   "execution_count": null,
   "outputs": [],
   "source": [
    "# Comencem per emplenar els missing values de muertos i heridos ja que\n",
    "# si no hi han dades suposarem que són 0.\n",
    "df['muertos'].fillna(0, inplace=True)\n",
    "df['heridos'].fillna(0, inplace=True)\n",
    "\n",
    "# Sobre la \"causa supuesta\" és normal que hi hagin instàncies sense valor ja que\n",
    "# Causa supuesta la posem a 0\n",
    "df['causa_supuesta'].fillna(0, inplace=True)"
   ],
   "metadata": {
    "collapsed": false,
    "pycharm": {
     "name": "#%%\n"
    }
   }
  },
  {
   "cell_type": "code",
   "execution_count": null,
   "outputs": [],
   "source": [
    "# Fem knn\n",
    "df['gastos'].fillna(0, inplace=True)\n",
    "df['perdidas'].fillna(0, inplace=True)\n",
    "\n",
    "# df.describe()\n",
    "\n",
    "print(df.columns[df.isnull().any()].tolist())"
   ],
   "metadata": {
    "collapsed": false,
    "pycharm": {
     "name": "#%%\n"
    }
   }
  },
  {
   "cell_type": "code",
   "execution_count": 45,
   "outputs": [
    {
     "name": "stdout",
     "output_type": "stream",
     "text": [
      "                 id    superficie           lat           lng  \\\n",
      "count  8.252300e+04  82523.000000  82523.000000  82523.000000   \n",
      "mean   2.007258e+09     19.092067     41.719125     -5.557423   \n",
      "std    4.246907e+06    207.085686      1.926842      2.443268   \n",
      "min    2.001010e+09      1.000000     27.707180    -17.980518   \n",
      "25%    2.003390e+09      1.500000     40.775439     -7.248247   \n",
      "50%    2.006330e+09      3.000000     42.342616     -5.959559   \n",
      "75%    2.011150e+09      7.100000     43.127795     -4.217251   \n",
      "max    2.015510e+09  28879.100000     43.761264      4.158954   \n",
      "\n",
      "       latlng_explicit   idcomunidad   idprovincia   idmunicipio  \\\n",
      "count     82523.000000  82523.000000  82523.000000  82523.000000   \n",
      "mean          0.640827      7.849969     28.412018     76.526471   \n",
      "std           0.479761      5.419613     11.724082     92.866264   \n",
      "min           0.000000      1.000000      1.000000      1.000000   \n",
      "25%           0.000000      3.000000     21.000000     27.000000   \n",
      "50%           1.000000      5.000000     32.000000     52.000000   \n",
      "75%           1.000000     14.000000     36.000000     91.000000   \n",
      "max           1.000000     18.000000     51.000000    913.000000   \n",
      "\n",
      "              causa  causa_supuesta    causa_desc       muertos       heridos  \\\n",
      "count  82523.000000    82523.000000  82523.000000  82523.000000  82523.000000   \n",
      "mean       3.695612        0.562413     12.204646      0.000691      0.007331   \n",
      "std        1.032699        0.496092     24.620610      0.054260      0.143130   \n",
      "min        1.000000        0.000000      0.000000      0.000000      0.000000   \n",
      "25%        4.000000        0.000000      0.000000      0.000000      0.000000   \n",
      "50%        4.000000        1.000000      2.000000      0.000000      0.000000   \n",
      "75%        4.000000        1.000000     10.000000      0.000000      0.000000   \n",
      "max        6.000000        1.000000     99.000000     11.000000     12.000000   \n",
      "\n",
      "           time_ctrl       time_ext      personal        medios        gastos  \\\n",
      "count   82523.000000   82523.000000  82523.000000  82523.000000  8.252300e+04   \n",
      "mean      235.033615     520.073846     21.030791      3.122184  1.050562e+03   \n",
      "std       898.832359    2556.820552     46.510646      6.039405  1.499463e+04   \n",
      "min         0.000000       0.000000      0.000000      0.000000  0.000000e+00   \n",
      "25%        64.000000     134.000000      5.000000      1.000000  0.000000e+00   \n",
      "50%       117.000000     221.000000     11.000000      2.000000  0.000000e+00   \n",
      "75%       210.000000     414.000000     23.000000      3.000000  0.000000e+00   \n",
      "max    132555.000000  529682.000000   3979.000000    310.000000  1.426641e+06   \n",
      "\n",
      "           perdidas  \n",
      "count  8.252300e+04  \n",
      "mean   1.290329e+04  \n",
      "std    2.718957e+05  \n",
      "min   -2.896100e+04  \n",
      "25%    0.000000e+00  \n",
      "50%    0.000000e+00  \n",
      "75%    6.355000e+02  \n",
      "max    3.064011e+07  \n"
     ]
    }
   ],
   "source": [
    "print(df.describe())"
   ],
   "metadata": {
    "collapsed": false,
    "pycharm": {
     "name": "#%%\n"
    }
   }
  },
  {
   "cell_type": "code",
   "execution_count": 43,
   "metadata": {},
   "outputs": [
    {
     "name": "stdout",
     "output_type": "stream",
     "text": [
      "(0, 21)\n",
      "(0, 21)\n",
      "Empty DataFrame\n",
      "Columns: [id, superficie, fecha, lat, lng, latlng_explicit, idcomunidad, idprovincia, idmunicipio, municipio, causa, causa_supuesta, causa_desc, muertos, heridos, time_ctrl, time_ext, personal, medios, gastos, perdidas]\n",
      "Index: []\n",
      "\n",
      "[0 rows x 21 columns]\n"
     ]
    }
   ],
   "source": [
    "aux = df.loc[df['idmunicipio'] == 999]\n",
    "latMissing = df.loc[np.isnan(df['lat'])]\n",
    "print(aux.shape)\n",
    "print(latMissing.shape)\n",
    "print(latMissing)"
   ]
  },
  {
   "cell_type": "markdown",
   "source": [
    "## Separem target del dataset\n",
    "Volem predir la superfície cremada donat un incendi per tant separem aquesta variable de la resta."
   ],
   "metadata": {
    "collapsed": false,
    "pycharm": {
     "name": "#%% md\n"
    }
   }
  },
  {
   "cell_type": "code",
   "source": [
    "X = df.drop('superficie', axis=1)\n",
    "y = df['superficie']\n",
    "\n",
    "# Comprovem que al target no hi hagin nulls\n",
    "print(y.isnull().values.any())\n"
   ],
   "metadata": {
    "collapsed": false,
    "pycharm": {
     "name": "#%%\n"
    }
   },
   "execution_count": 44,
   "outputs": [
    {
     "name": "stdout",
     "output_type": "stream",
     "text": [
      "False\n"
     ]
    }
   ]
  }
 ],
 "metadata": {
  "kernelspec": {
   "display_name": "Python 3",
   "language": "python",
   "name": "python3"
  },
  "language_info": {
   "codemirror_mode": {
    "name": "ipython",
    "version": 3
   },
   "file_extension": ".py",
   "mimetype": "text/x-python",
   "name": "python",
   "nbconvert_exporter": "python",
   "pygments_lexer": "ipython3",
   "version": "3.8.5-final"
  }
 },
 "nbformat": 4,
 "nbformat_minor": 4
}